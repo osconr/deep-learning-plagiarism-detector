{
 "cells": [
  {
   "cell_type": "markdown",
   "metadata": {},
   "source": [
    "# Modelling notebook - ModelABC"
   ]
  },
  {
   "cell_type": "markdown",
   "metadata": {},
   "source": [
    "This notebook contains two main sections:\n",
    "\n",
    "1. Training models - Defines Models A,B and C and trains them\n",
    "2. Evaluating models on 'Test' data - Evaluates Models A,B and C on the test data"
   ]
  },
  {
   "cell_type": "code",
   "execution_count": 7,
   "metadata": {
    "execution": {
     "iopub.execute_input": "2022-04-26T18:50:13.591109Z",
     "iopub.status.busy": "2022-04-26T18:50:13.590791Z",
     "iopub.status.idle": "2022-04-26T18:50:13.594784Z",
     "shell.execute_reply": "2022-04-26T18:50:13.594085Z",
     "shell.execute_reply.started": "2022-04-26T18:50:13.591079Z"
    },
    "tags": []
   },
   "outputs": [],
   "source": [
    "#If using saturn cloud, downgrade numpy\n",
    "#pip install -U numpy==1.18.5"
   ]
  },
  {
   "cell_type": "code",
   "execution_count": 1,
   "metadata": {
    "execution": {
     "iopub.execute_input": "2022-04-27T12:50:19.432513Z",
     "iopub.status.busy": "2022-04-27T12:50:19.432158Z",
     "iopub.status.idle": "2022-04-27T12:50:22.139440Z",
     "shell.execute_reply": "2022-04-27T12:50:22.138678Z",
     "shell.execute_reply.started": "2022-04-27T12:50:19.432447Z"
    },
    "tags": []
   },
   "outputs": [
    {
     "name": "stderr",
     "output_type": "stream",
     "text": [
      "2022-04-27 12:50:19.851802: I tensorflow/stream_executor/platform/default/dso_loader.cc:49] Successfully opened dynamic library libcudart.so.10.1\n"
     ]
    }
   ],
   "source": [
    "# Custom functions and setup\n",
    "\n",
    "from functions_auto import *\n",
    "import config\n",
    "\n",
    "# Other packages \n",
    "\n",
    "import pandas as pd\n",
    "import numpy as np\n",
    "import matplotlib.pyplot as plt\n",
    "import os\n",
    "\n",
    "# Tensorflow\n",
    "\n",
    "import tensorflow as tf\n",
    "from tensorflow.keras import backend as K\n",
    "from tensorflow.keras.preprocessing.text import Tokenizer\n",
    "from tensorflow.keras.preprocessing.sequence import pad_sequences\n",
    "from tensorflow.keras.layers import Input\n",
    "from tensorflow.keras.layers import Dropout, Bidirectional, SpatialDropout1D\n",
    "from tensorflow.keras.layers import Flatten, Dense, Embedding, LSTM, GRU\n",
    "from tensorflow.keras.layers import BatchNormalization, MaxPooling2D, Concatenate, Lambda, concatenate\n",
    "from tensorflow.keras.models import Model, Sequential\n",
    "from tensorflow.keras.regularizers import l2\n",
    "from tensorflow.keras.optimizers import Adam, Adadelta, RMSprop\n",
    "from tensorflow.keras.initializers import Constant\n",
    "from tensorflow.keras.utils import Sequence, plot_model"
   ]
  },
  {
   "cell_type": "code",
   "execution_count": 2,
   "metadata": {
    "execution": {
     "iopub.execute_input": "2022-04-27T12:50:22.959803Z",
     "iopub.status.busy": "2022-04-27T12:50:22.959393Z",
     "iopub.status.idle": "2022-04-27T12:50:22.964373Z",
     "shell.execute_reply": "2022-04-27T12:50:22.963630Z",
     "shell.execute_reply.started": "2022-04-27T12:50:22.959765Z"
    },
    "tags": []
   },
   "outputs": [],
   "source": [
    "# Setting seed\n",
    "tf.random.set_seed(123)\n",
    "np.random.seed(123)"
   ]
  },
  {
   "cell_type": "code",
   "execution_count": 1,
   "metadata": {
    "execution": {
     "iopub.execute_input": "2022-04-20T13:06:06.472742Z",
     "iopub.status.busy": "2022-04-20T13:06:06.472426Z",
     "iopub.status.idle": "2022-04-20T13:06:06.476000Z",
     "shell.execute_reply": "2022-04-20T13:06:06.475337Z",
     "shell.execute_reply.started": "2022-04-20T13:06:06.472714Z"
    },
    "tags": []
   },
   "outputs": [],
   "source": [
    "#### Download GloveEmbeddings\n",
    "\n",
    "# - The following code chunk can be used to download the word embeddings, and extracts the correct file from the zip\n",
    "# - Is included in gitignore so will be kept on your computer\n",
    "\n",
    "#import urllib.request\n",
    "#import shutil\n",
    "#import zipfile\n",
    "#urllib.request.urlretrieve('http://nlp.stanford.edu/data/glove.6B.zip', 'glove.6B.zip')\n",
    "#shutil.move(config.base_dir+'glove.6B.zip', config.base_dir+'embeddings/glove.6B.zip')\n",
    "#with zipfile.ZipFile(config.base_dir+'embeddings/glove.6B.zip', 'r') as zfile:\n",
    "#    unpacked = open(config.base_dir+'embeddings/glove.6B.50d.txt', 'w')\n",
    "#    unpacked.write(zfile.read('glove.6B.50d.txt').decode('utf-8'))\n",
    "#    unpacked.close()"
   ]
  },
  {
   "cell_type": "markdown",
   "metadata": {},
   "source": [
    "## 1. Training models"
   ]
  },
  {
   "cell_type": "markdown",
   "metadata": {
    "execution": {
     "iopub.execute_input": "2022-04-26T15:47:49.999863Z",
     "iopub.status.busy": "2022-04-26T15:47:49.999537Z",
     "iopub.status.idle": "2022-04-26T15:47:50.002815Z",
     "shell.execute_reply": "2022-04-26T15:47:50.002189Z",
     "shell.execute_reply.started": "2022-04-26T15:47:49.999839Z"
    }
   },
   "source": [
    "### *Model A*"
   ]
  },
  {
   "cell_type": "code",
   "execution_count": 3,
   "metadata": {
    "execution": {
     "iopub.execute_input": "2022-04-27T12:50:33.723946Z",
     "iopub.status.busy": "2022-04-27T12:50:33.723631Z",
     "iopub.status.idle": "2022-04-27T12:50:33.728687Z",
     "shell.execute_reply": "2022-04-27T12:50:33.728117Z",
     "shell.execute_reply.started": "2022-04-27T12:50:33.723921Z"
    },
    "tags": []
   },
   "outputs": [],
   "source": [
    "# Optimizers\n",
    "opt_Adam = Adam(clipnorm=1.5) # As used in Nath (2021)\n",
    "opt_sgd1 = tf.keras.optimizers.SGD(learning_rate = 0.01, momentum = 0.9, decay=0.01) # Asmus tries to see if it fixes 2022-problem"
   ]
  },
  {
   "cell_type": "code",
   "execution_count": 6,
   "metadata": {
    "execution": {
     "iopub.execute_input": "2022-04-27T12:50:54.134627Z",
     "iopub.status.busy": "2022-04-27T12:50:54.134319Z",
     "iopub.status.idle": "2022-04-27T12:50:54.142580Z",
     "shell.execute_reply": "2022-04-27T12:50:54.140804Z",
     "shell.execute_reply.started": "2022-04-27T12:50:54.134604Z"
    },
    "tags": []
   },
   "outputs": [],
   "source": [
    "def model_no_dropout(max_len, tokenizer, embed_matrix, embedding_dim, optimizer):\n",
    "    \n",
    "    \"\"\"\n",
    "    \n",
    "    This model is the same as used in our initial replication, with the exception that we have\n",
    "    removed the recurrent dropout as this was preventing the model from running on GPU.\n",
    "    \n",
    "    \"\"\"\n",
    "    \n",
    "    input_1 = Input(shape=(max_len,))\n",
    "    input_2 = Input(shape=(max_len,))\n",
    "\n",
    "    lstm_layer = Bidirectional(LSTM(50, dropout=0.2))\n",
    "    embeddings_initializer = Constant(embed_matrix)\n",
    "    emb =  Embedding(len(tokenizer.word_index)+1,\n",
    "                     embedding_dim,\n",
    "                     embeddings_initializer=embeddings_initializer,\n",
    "                     input_length=max_len,\n",
    "                     weights=[embed_matrix],\n",
    "                     trainable=True)\n",
    "\n",
    "    e1 = emb(input_1)\n",
    "    x1 = lstm_layer(e1)\n",
    "\n",
    "    e2 = emb(input_2)\n",
    "    x2 = lstm_layer(e2)\n",
    "\n",
    "    mhd = lambda x: exponent_neg_cosine_distance(x[0], x[1]) \n",
    "    merged = Lambda(function=mhd, output_shape=lambda x: x[0], name='cosine_distance')([x1, x2])\n",
    "    preds = Dense(1, activation='sigmoid')(merged)\n",
    "    model = Model(inputs=[input_1, input_2], outputs=preds)\n",
    "\n",
    "    model.compile(loss = \"binary_crossentropy\",  metrics=['acc',f1_m], optimizer = optimizer)\n",
    "\n",
    "    return model"
   ]
  },
  {
   "cell_type": "code",
   "execution_count": 27,
   "metadata": {
    "execution": {
     "iopub.execute_input": "2022-04-22T09:20:13.434466Z",
     "iopub.status.busy": "2022-04-22T09:20:13.434162Z",
     "iopub.status.idle": "2022-04-22T09:21:39.443151Z",
     "shell.execute_reply": "2022-04-22T09:21:39.442515Z",
     "shell.execute_reply.started": "2022-04-22T09:20:13.434442Z"
    },
    "tags": []
   },
   "outputs": [
    {
     "name": "stdout",
     "output_type": "stream",
     "text": [
      "Found 400000 word vectors.\n",
      "Loaded 400000 word vectors.\n",
      "(10001, 50)\n",
      "Epoch 1/100\n",
      "100/100 [==============================] - 10s 55ms/step - loss: 0.8356 - acc: 0.3880 - f1_m: 0.0236 - val_loss: 0.6917 - val_acc: 0.5388 - val_f1_m: 0.5626\n",
      "Epoch 2/100\n",
      "100/100 [==============================] - 4s 39ms/step - loss: 0.6794 - acc: 0.6042 - f1_m: 0.6877 - val_loss: 0.6638 - val_acc: 0.6336 - val_f1_m: 0.7517\n",
      "Epoch 3/100\n",
      "100/100 [==============================] - 4s 39ms/step - loss: 0.6587 - acc: 0.6365 - f1_m: 0.7621 - val_loss: 0.6560 - val_acc: 0.6336 - val_f1_m: 0.7622\n",
      "Epoch 4/100\n",
      "100/100 [==============================] - 4s 39ms/step - loss: 0.6510 - acc: 0.6369 - f1_m: 0.7667 - val_loss: 0.6526 - val_acc: 0.6325 - val_f1_m: 0.7617\n",
      "Epoch 5/100\n",
      " 99/100 [============================>.] - ETA: 0s - loss: 0.6441 - acc: 0.6414 - f1_m: 0.7675\n",
      "Epoch 00005: saving model to /home/jovyan/examples/examples/tensorflow/project-2022-group-4/checkpoints/model_no_dropout_train_2022_task2/cp-0005.ckpt\n",
      "100/100 [==============================] - 4s 39ms/step - loss: 0.6440 - acc: 0.6415 - f1_m: 0.7676 - val_loss: 0.6481 - val_acc: 0.6452 - val_f1_m: 0.7614\n",
      "Epoch 6/100\n",
      "100/100 [==============================] - 4s 39ms/step - loss: 0.6371 - acc: 0.6603 - f1_m: 0.7722 - val_loss: 0.6460 - val_acc: 0.6483 - val_f1_m: 0.7495\n",
      "Epoch 7/100\n",
      "100/100 [==============================] - 4s 39ms/step - loss: 0.6322 - acc: 0.6732 - f1_m: 0.7728 - val_loss: 0.6427 - val_acc: 0.6501 - val_f1_m: 0.7504\n",
      "Epoch 8/100\n",
      "100/100 [==============================] - 4s 39ms/step - loss: 0.6201 - acc: 0.6964 - f1_m: 0.7857 - val_loss: 0.6398 - val_acc: 0.6560 - val_f1_m: 0.7418\n",
      "Epoch 9/100\n",
      "100/100 [==============================] - 4s 39ms/step - loss: 0.6129 - acc: 0.7080 - f1_m: 0.7888 - val_loss: 0.6418 - val_acc: 0.6477 - val_f1_m: 0.7390\n",
      "Epoch 10/100\n",
      " 99/100 [============================>.] - ETA: 0s - loss: 0.6049 - acc: 0.7157 - f1_m: 0.7864\n",
      "Epoch 00010: saving model to /home/jovyan/examples/examples/tensorflow/project-2022-group-4/checkpoints/model_no_dropout_train_2022_task2/cp-0010.ckpt\n",
      "100/100 [==============================] - 4s 40ms/step - loss: 0.6049 - acc: 0.7158 - f1_m: 0.7864 - val_loss: 0.6389 - val_acc: 0.6414 - val_f1_m: 0.7216\n",
      "Epoch 11/100\n",
      "100/100 [==============================] - 4s 39ms/step - loss: 0.5960 - acc: 0.7276 - f1_m: 0.7929 - val_loss: 0.6362 - val_acc: 0.6460 - val_f1_m: 0.7220\n",
      "Epoch 12/100\n",
      "100/100 [==============================] - 4s 39ms/step - loss: 0.5885 - acc: 0.7337 - f1_m: 0.7943 - val_loss: 0.6357 - val_acc: 0.6431 - val_f1_m: 0.7255\n",
      "Epoch 13/100\n",
      "100/100 [==============================] - 4s 39ms/step - loss: 0.5805 - acc: 0.7399 - f1_m: 0.7991 - val_loss: 0.6334 - val_acc: 0.6483 - val_f1_m: 0.7274\n",
      "Epoch 14/100\n",
      "100/100 [==============================] - 4s 39ms/step - loss: 0.5690 - acc: 0.7520 - f1_m: 0.8073 - val_loss: 0.6317 - val_acc: 0.6473 - val_f1_m: 0.7278\n",
      "Epoch 15/100\n",
      " 99/100 [============================>.] - ETA: 0s - loss: 0.5584 - acc: 0.7639 - f1_m: 0.8157\n",
      "Epoch 00015: saving model to /home/jovyan/examples/examples/tensorflow/project-2022-group-4/checkpoints/model_no_dropout_train_2022_task2/cp-0015.ckpt\n",
      "100/100 [==============================] - 4s 39ms/step - loss: 0.5584 - acc: 0.7637 - f1_m: 0.8156 - val_loss: 0.6307 - val_acc: 0.6481 - val_f1_m: 0.7185\n",
      "Epoch 16/100\n",
      "100/100 [==============================] - 4s 39ms/step - loss: 0.5493 - acc: 0.7695 - f1_m: 0.8206 - val_loss: 0.6367 - val_acc: 0.6405 - val_f1_m: 0.7101\n",
      "Epoch 17/100\n",
      "100/100 [==============================] - 4s 39ms/step - loss: 0.5411 - acc: 0.7687 - f1_m: 0.8176 - val_loss: 0.6369 - val_acc: 0.6403 - val_f1_m: 0.7099\n",
      "Epoch 18/100\n",
      "100/100 [==============================] - 4s 39ms/step - loss: 0.5329 - acc: 0.7770 - f1_m: 0.8225 - val_loss: 0.6389 - val_acc: 0.6388 - val_f1_m: 0.7056\n"
     ]
    },
    {
     "data": {
      "image/png": "[encoded data removed]",
      "text/plain": [
       "<Figure size 432x288 with 1 Axes>"
      ]
     },
     "metadata": {
      "needs_background": "light"
     },
     "output_type": "display_data"
    },
    {
     "data": {
      "image/png": "[encoded data removed]",
      "text/plain": [
       "<Figure size 432x288 with 1 Axes>"
      ]
     },
     "metadata": {
      "needs_background": "light"
     },
     "output_type": "display_data"
    }
   ],
   "source": [
    "run_model(chosen_datasetname='train_2022_task2',\n",
    "          custom_modelname='model_no_dropout_train_2022_task2', # test* is in gitignore, for testing without uploading\n",
    "          model_fun=model_no_dropout,\n",
    "          optimizer=opt_Adam,\n",
    "          BATCH_SIZE=256,\n",
    "          EPOCHS=100,\n",
    "          STEPS_PER_EPOCH = 100,\n",
    "          early_stopping=True,\n",
    "          max_len = 100,\n",
    "          #embedding_dim = 50,\n",
    "          #max_words = 10000\n",
    "         )"
   ]
  },
  {
   "cell_type": "markdown",
   "metadata": {},
   "source": [
    "### *Model B*"
   ]
  },
  {
   "cell_type": "code",
   "execution_count": 7,
   "metadata": {
    "execution": {
     "iopub.execute_input": "2022-04-27T12:50:59.854116Z",
     "iopub.status.busy": "2022-04-27T12:50:59.853827Z",
     "iopub.status.idle": "2022-04-27T12:50:59.857719Z",
     "shell.execute_reply": "2022-04-27T12:50:59.857183Z",
     "shell.execute_reply.started": "2022-04-27T12:50:59.854091Z"
    },
    "tags": []
   },
   "outputs": [],
   "source": [
    "#Reducing the learning rate\n",
    "opt_Adam2 = Adam(clipnorm=1.5,learning_rate=0.0001)"
   ]
  },
  {
   "cell_type": "code",
   "execution_count": 8,
   "metadata": {
    "execution": {
     "iopub.execute_input": "2022-04-27T12:51:01.351438Z",
     "iopub.status.busy": "2022-04-27T12:51:01.351135Z",
     "iopub.status.idle": "2022-04-27T12:51:01.357952Z",
     "shell.execute_reply": "2022-04-27T12:51:01.357185Z",
     "shell.execute_reply.started": "2022-04-27T12:51:01.351410Z"
    },
    "tags": []
   },
   "outputs": [],
   "source": [
    "def model_lower_hidden(max_len, tokenizer, embed_matrix, embedding_dim, optimizer):\n",
    "    \n",
    "    \"\"\"\n",
    "    \n",
    "    This model is the same as model_no_dropout, with the exception that we have doubled the number of hidden units.\n",
    "    \n",
    "    \"\"\"\n",
    "    \n",
    "    input_1 = Input(shape=(max_len,))\n",
    "    input_2 = Input(shape=(max_len,))\n",
    "\n",
    "    lstm_layer = Bidirectional(LSTM(100, dropout=0.2))\n",
    "    embeddings_initializer = Constant(embed_matrix)\n",
    "    emb =  Embedding(len(tokenizer.word_index)+1,\n",
    "                     embedding_dim,\n",
    "                     embeddings_initializer=embeddings_initializer,\n",
    "                     input_length=max_len,\n",
    "                     weights=[embed_matrix],\n",
    "                     trainable=True)\n",
    "\n",
    "    e1 = emb(input_1)\n",
    "    x1 = lstm_layer(e1)\n",
    "\n",
    "    e2 = emb(input_2)\n",
    "    x2 = lstm_layer(e2)\n",
    "\n",
    "    mhd = lambda x: exponent_neg_cosine_distance(x[0], x[1]) \n",
    "    merged = Lambda(function=mhd, output_shape=lambda x: x[0], name='cosine_distance')([x1, x2])\n",
    "    preds = Dense(1, activation='sigmoid')(merged)\n",
    "    model = Model(inputs=[input_1, input_2], outputs=preds)\n",
    "\n",
    "    model.compile(loss = \"binary_crossentropy\",  metrics=['acc',f1_m], optimizer = optimizer)\n",
    "\n",
    "    return model"
   ]
  },
  {
   "cell_type": "code",
   "execution_count": 36,
   "metadata": {
    "execution": {
     "iopub.execute_input": "2022-04-22T09:30:24.672880Z",
     "iopub.status.busy": "2022-04-22T09:30:24.672589Z",
     "iopub.status.idle": "2022-04-22T09:38:18.428566Z",
     "shell.execute_reply": "2022-04-22T09:38:18.427933Z",
     "shell.execute_reply.started": "2022-04-22T09:30:24.672856Z"
    },
    "tags": []
   },
   "outputs": [
    {
     "name": "stdout",
     "output_type": "stream",
     "text": [
      "Found 400000 word vectors.\n",
      "Loaded 400000 word vectors.\n",
      "(5001, 50)\n",
      "Epoch 1/100\n",
      "100/100 - 11s - loss: 0.7497 - acc: 0.3831 - f1_m: 0.0000e+00 - val_loss: 0.7314 - val_acc: 0.3897 - val_f1_m: 0.0000e+00\n",
      "Epoch 2/100\n",
      "100/100 - 5s - loss: 0.7256 - acc: 0.3854 - f1_m: 0.0000e+00 - val_loss: 0.7226 - val_acc: 0.3900 - val_f1_m: 0.0000e+00\n",
      "Epoch 3/100\n",
      "100/100 - 5s - loss: 0.7190 - acc: 0.3839 - f1_m: 0.0000e+00 - val_loss: 0.7163 - val_acc: 0.3888 - val_f1_m: 0.0000e+00\n",
      "Epoch 4/100\n",
      "100/100 - 5s - loss: 0.7139 - acc: 0.3806 - f1_m: 0.0000e+00 - val_loss: 0.7108 - val_acc: 0.3887 - val_f1_m: 0.0000e+00\n",
      "Epoch 5/100\n",
      "\n",
      "Epoch 00005: saving model to /home/jovyan/examples/examples/tensorflow/project-2022-group-4/checkpoints/model_lower_hidden_train_2022_task2/cp-0005.ckpt\n",
      "100/100 - 5s - loss: 0.7084 - acc: 0.3834 - f1_m: 0.0000e+00 - val_loss: 0.7057 - val_acc: 0.3902 - val_f1_m: 0.0087\n",
      "Epoch 6/100\n",
      "100/100 - 5s - loss: 0.7041 - acc: 0.3853 - f1_m: 0.0124 - val_loss: 0.7019 - val_acc: 0.4220 - val_f1_m: 0.1379\n",
      "Epoch 7/100\n",
      "100/100 - 5s - loss: 0.6999 - acc: 0.4064 - f1_m: 0.0890 - val_loss: 0.6982 - val_acc: 0.4628 - val_f1_m: 0.2844\n",
      "Epoch 8/100\n",
      "100/100 - 5s - loss: 0.6966 - acc: 0.4425 - f1_m: 0.2290 - val_loss: 0.6949 - val_acc: 0.4968 - val_f1_m: 0.3877\n",
      "Epoch 9/100\n",
      "100/100 - 5s - loss: 0.6937 - acc: 0.4912 - f1_m: 0.3806 - val_loss: 0.6925 - val_acc: 0.5222 - val_f1_m: 0.4740\n",
      "Epoch 10/100\n",
      "\n",
      "Epoch 00010: saving model to /home/jovyan/examples/examples/tensorflow/project-2022-group-4/checkpoints/model_lower_hidden_train_2022_task2/cp-0010.ckpt\n",
      "100/100 - 5s - loss: 0.6910 - acc: 0.5289 - f1_m: 0.4885 - val_loss: 0.6894 - val_acc: 0.5500 - val_f1_m: 0.5350\n",
      "Epoch 11/100\n",
      "100/100 - 5s - loss: 0.6885 - acc: 0.5682 - f1_m: 0.5819 - val_loss: 0.6880 - val_acc: 0.5680 - val_f1_m: 0.5844\n",
      "Epoch 12/100\n",
      "100/100 - 5s - loss: 0.6862 - acc: 0.5961 - f1_m: 0.6386 - val_loss: 0.6856 - val_acc: 0.5917 - val_f1_m: 0.6305\n",
      "Epoch 13/100\n",
      "100/100 - 5s - loss: 0.6843 - acc: 0.6143 - f1_m: 0.6771 - val_loss: 0.6837 - val_acc: 0.6032 - val_f1_m: 0.6562\n",
      "Epoch 14/100\n",
      "100/100 - 5s - loss: 0.6824 - acc: 0.6291 - f1_m: 0.7065 - val_loss: 0.6825 - val_acc: 0.6123 - val_f1_m: 0.6791\n",
      "Epoch 15/100\n",
      "\n",
      "Epoch 00015: saving model to /home/jovyan/examples/examples/tensorflow/project-2022-group-4/checkpoints/model_lower_hidden_train_2022_task2/cp-0015.ckpt\n",
      "100/100 - 5s - loss: 0.6806 - acc: 0.6400 - f1_m: 0.7293 - val_loss: 0.6813 - val_acc: 0.6151 - val_f1_m: 0.6933\n",
      "Epoch 16/100\n",
      "100/100 - 5s - loss: 0.6788 - acc: 0.6481 - f1_m: 0.7446 - val_loss: 0.6790 - val_acc: 0.6316 - val_f1_m: 0.7175\n",
      "Epoch 17/100\n",
      "100/100 - 5s - loss: 0.6779 - acc: 0.6452 - f1_m: 0.7491 - val_loss: 0.6780 - val_acc: 0.6368 - val_f1_m: 0.7276\n",
      "Epoch 18/100\n",
      "100/100 - 5s - loss: 0.6760 - acc: 0.6502 - f1_m: 0.7597 - val_loss: 0.6766 - val_acc: 0.6411 - val_f1_m: 0.7426\n",
      "Epoch 19/100\n",
      "100/100 - 5s - loss: 0.6753 - acc: 0.6474 - f1_m: 0.7630 - val_loss: 0.6755 - val_acc: 0.6421 - val_f1_m: 0.7496\n",
      "Epoch 20/100\n",
      "\n",
      "Epoch 00020: saving model to /home/jovyan/examples/examples/tensorflow/project-2022-group-4/checkpoints/model_lower_hidden_train_2022_task2/cp-0020.ckpt\n",
      "100/100 - 5s - loss: 0.6739 - acc: 0.6454 - f1_m: 0.7640 - val_loss: 0.6743 - val_acc: 0.6408 - val_f1_m: 0.7541\n",
      "Epoch 21/100\n",
      "100/100 - 5s - loss: 0.6729 - acc: 0.6430 - f1_m: 0.7658 - val_loss: 0.6739 - val_acc: 0.6348 - val_f1_m: 0.7551\n",
      "Epoch 22/100\n",
      "100/100 - 5s - loss: 0.6719 - acc: 0.6393 - f1_m: 0.7672 - val_loss: 0.6727 - val_acc: 0.6330 - val_f1_m: 0.7602\n",
      "Epoch 23/100\n",
      "100/100 - 5s - loss: 0.6710 - acc: 0.6298 - f1_m: 0.7658 - val_loss: 0.6720 - val_acc: 0.6272 - val_f1_m: 0.7635\n",
      "Epoch 24/100\n",
      "100/100 - 5s - loss: 0.6706 - acc: 0.6161 - f1_m: 0.7615 - val_loss: 0.6714 - val_acc: 0.6103 - val_f1_m: 0.7578\n",
      "Epoch 25/100\n",
      "\n",
      "Epoch 00025: saving model to /home/jovyan/examples/examples/tensorflow/project-2022-group-4/checkpoints/model_lower_hidden_train_2022_task2/cp-0025.ckpt\n",
      "100/100 - 5s - loss: 0.6700 - acc: 0.6134 - f1_m: 0.7600 - val_loss: 0.6710 - val_acc: 0.6096 - val_f1_m: 0.7571\n",
      "Epoch 26/100\n",
      "100/100 - 5s - loss: 0.6691 - acc: 0.6148 - f1_m: 0.7611 - val_loss: 0.6702 - val_acc: 0.6102 - val_f1_m: 0.7574\n",
      "Epoch 27/100\n",
      "100/100 - 5s - loss: 0.6677 - acc: 0.6182 - f1_m: 0.7637 - val_loss: 0.6696 - val_acc: 0.6104 - val_f1_m: 0.7576\n",
      "Epoch 28/100\n",
      "100/100 - 5s - loss: 0.6676 - acc: 0.6161 - f1_m: 0.7620 - val_loss: 0.6690 - val_acc: 0.6110 - val_f1_m: 0.7582\n",
      "Epoch 29/100\n",
      "100/100 - 5s - loss: 0.6671 - acc: 0.6145 - f1_m: 0.7607 - val_loss: 0.6687 - val_acc: 0.6099 - val_f1_m: 0.7573\n",
      "Epoch 30/100\n",
      "\n",
      "Epoch 00030: saving model to /home/jovyan/examples/examples/tensorflow/project-2022-group-4/checkpoints/model_lower_hidden_train_2022_task2/cp-0030.ckpt\n",
      "100/100 - 5s - loss: 0.6662 - acc: 0.6157 - f1_m: 0.7617 - val_loss: 0.6683 - val_acc: 0.6088 - val_f1_m: 0.7566\n",
      "Epoch 31/100\n",
      "100/100 - 5s - loss: 0.6658 - acc: 0.6158 - f1_m: 0.7619 - val_loss: 0.6680 - val_acc: 0.6095 - val_f1_m: 0.7570\n",
      "Epoch 32/100\n",
      "100/100 - 5s - loss: 0.6644 - acc: 0.6193 - f1_m: 0.7644 - val_loss: 0.6670 - val_acc: 0.6112 - val_f1_m: 0.7582\n",
      "Epoch 33/100\n",
      "100/100 - 5s - loss: 0.6651 - acc: 0.6143 - f1_m: 0.7606 - val_loss: 0.6667 - val_acc: 0.6098 - val_f1_m: 0.7573\n",
      "Epoch 34/100\n",
      "100/100 - 5s - loss: 0.6637 - acc: 0.6160 - f1_m: 0.7619 - val_loss: 0.6658 - val_acc: 0.6116 - val_f1_m: 0.7586\n",
      "Epoch 35/100\n",
      "\n",
      "Epoch 00035: saving model to /home/jovyan/examples/examples/tensorflow/project-2022-group-4/checkpoints/model_lower_hidden_train_2022_task2/cp-0035.ckpt\n",
      "100/100 - 5s - loss: 0.6636 - acc: 0.6151 - f1_m: 0.7613 - val_loss: 0.6657 - val_acc: 0.6103 - val_f1_m: 0.7576\n",
      "Epoch 36/100\n",
      "100/100 - 5s - loss: 0.6624 - acc: 0.6193 - f1_m: 0.7645 - val_loss: 0.6653 - val_acc: 0.6106 - val_f1_m: 0.7578\n",
      "Epoch 37/100\n",
      "100/100 - 5s - loss: 0.6628 - acc: 0.6143 - f1_m: 0.7607 - val_loss: 0.6646 - val_acc: 0.6114 - val_f1_m: 0.7584\n",
      "Epoch 38/100\n",
      "100/100 - 5s - loss: 0.6620 - acc: 0.6155 - f1_m: 0.7615 - val_loss: 0.6644 - val_acc: 0.6113 - val_f1_m: 0.7583\n",
      "Epoch 39/100\n",
      "100/100 - 5s - loss: 0.6609 - acc: 0.6175 - f1_m: 0.7631 - val_loss: 0.6637 - val_acc: 0.6103 - val_f1_m: 0.7576\n",
      "Epoch 40/100\n",
      "\n",
      "Epoch 00040: saving model to /home/jovyan/examples/examples/tensorflow/project-2022-group-4/checkpoints/model_lower_hidden_train_2022_task2/cp-0040.ckpt\n",
      "100/100 - 5s - loss: 0.6604 - acc: 0.6171 - f1_m: 0.7628 - val_loss: 0.6633 - val_acc: 0.6115 - val_f1_m: 0.7582\n",
      "Epoch 41/100\n",
      "100/100 - 5s - loss: 0.6601 - acc: 0.6168 - f1_m: 0.7626 - val_loss: 0.6631 - val_acc: 0.6105 - val_f1_m: 0.7578\n",
      "Epoch 42/100\n",
      "100/100 - 5s - loss: 0.6592 - acc: 0.6164 - f1_m: 0.7623 - val_loss: 0.6623 - val_acc: 0.6110 - val_f1_m: 0.7580\n",
      "Epoch 43/100\n",
      "100/100 - 5s - loss: 0.6592 - acc: 0.6151 - f1_m: 0.7613 - val_loss: 0.6623 - val_acc: 0.6100 - val_f1_m: 0.7573\n",
      "Epoch 44/100\n",
      "100/100 - 5s - loss: 0.6586 - acc: 0.6152 - f1_m: 0.7612 - val_loss: 0.6619 - val_acc: 0.6110 - val_f1_m: 0.7581\n",
      "Epoch 45/100\n",
      "\n",
      "Epoch 00045: saving model to /home/jovyan/examples/examples/tensorflow/project-2022-group-4/checkpoints/model_lower_hidden_train_2022_task2/cp-0045.ckpt\n",
      "100/100 - 5s - loss: 0.6571 - acc: 0.6182 - f1_m: 0.7635 - val_loss: 0.6607 - val_acc: 0.6119 - val_f1_m: 0.7589\n",
      "Epoch 46/100\n",
      "100/100 - 5s - loss: 0.6576 - acc: 0.6137 - f1_m: 0.7601 - val_loss: 0.6606 - val_acc: 0.6099 - val_f1_m: 0.7573\n",
      "Epoch 47/100\n",
      "100/100 - 5s - loss: 0.6566 - acc: 0.6157 - f1_m: 0.7615 - val_loss: 0.6602 - val_acc: 0.6105 - val_f1_m: 0.7578\n",
      "Epoch 48/100\n",
      "100/100 - 5s - loss: 0.6560 - acc: 0.6141 - f1_m: 0.7605 - val_loss: 0.6605 - val_acc: 0.6105 - val_f1_m: 0.7578\n",
      "Epoch 49/100\n",
      "100/100 - 5s - loss: 0.6553 - acc: 0.6169 - f1_m: 0.7626 - val_loss: 0.6594 - val_acc: 0.6108 - val_f1_m: 0.7578\n",
      "Epoch 50/100\n",
      "\n",
      "Epoch 00050: saving model to /home/jovyan/examples/examples/tensorflow/project-2022-group-4/checkpoints/model_lower_hidden_train_2022_task2/cp-0050.ckpt\n",
      "100/100 - 5s - loss: 0.6543 - acc: 0.6160 - f1_m: 0.7620 - val_loss: 0.6594 - val_acc: 0.6109 - val_f1_m: 0.7581\n",
      "Epoch 51/100\n",
      "100/100 - 5s - loss: 0.6538 - acc: 0.6157 - f1_m: 0.7617 - val_loss: 0.6582 - val_acc: 0.6114 - val_f1_m: 0.7586\n",
      "Epoch 52/100\n",
      "100/100 - 5s - loss: 0.6531 - acc: 0.6151 - f1_m: 0.7613 - val_loss: 0.6582 - val_acc: 0.6093 - val_f1_m: 0.7567\n",
      "Epoch 53/100\n",
      "100/100 - 5s - loss: 0.6533 - acc: 0.6135 - f1_m: 0.7600 - val_loss: 0.6589 - val_acc: 0.6095 - val_f1_m: 0.7569\n",
      "Epoch 54/100\n",
      "100/100 - 5s - loss: 0.6520 - acc: 0.6132 - f1_m: 0.7597 - val_loss: 0.6569 - val_acc: 0.6099 - val_f1_m: 0.7573\n",
      "Epoch 55/100\n",
      "\n",
      "Epoch 00055: saving model to /home/jovyan/examples/examples/tensorflow/project-2022-group-4/checkpoints/model_lower_hidden_train_2022_task2/cp-0055.ckpt\n",
      "100/100 - 5s - loss: 0.6506 - acc: 0.6157 - f1_m: 0.7617 - val_loss: 0.6562 - val_acc: 0.6103 - val_f1_m: 0.7577\n",
      "Epoch 56/100\n",
      "100/100 - 5s - loss: 0.6497 - acc: 0.6161 - f1_m: 0.7620 - val_loss: 0.6560 - val_acc: 0.6104 - val_f1_m: 0.7576\n",
      "Epoch 57/100\n",
      "100/100 - 5s - loss: 0.6493 - acc: 0.6193 - f1_m: 0.7626 - val_loss: 0.6560 - val_acc: 0.6295 - val_f1_m: 0.7619\n",
      "Epoch 58/100\n",
      "100/100 - 5s - loss: 0.6487 - acc: 0.6317 - f1_m: 0.7675 - val_loss: 0.6552 - val_acc: 0.6343 - val_f1_m: 0.7634\n",
      "Epoch 59/100\n",
      "100/100 - 5s - loss: 0.6481 - acc: 0.6391 - f1_m: 0.7697 - val_loss: 0.6551 - val_acc: 0.6417 - val_f1_m: 0.7631\n",
      "Epoch 60/100\n",
      "\n",
      "Epoch 00060: saving model to /home/jovyan/examples/examples/tensorflow/project-2022-group-4/checkpoints/model_lower_hidden_train_2022_task2/cp-0060.ckpt\n",
      "100/100 - 5s - loss: 0.6461 - acc: 0.6483 - f1_m: 0.7723 - val_loss: 0.6534 - val_acc: 0.6451 - val_f1_m: 0.7637\n",
      "Epoch 61/100\n",
      "100/100 - 5s - loss: 0.6461 - acc: 0.6535 - f1_m: 0.7745 - val_loss: 0.6541 - val_acc: 0.6485 - val_f1_m: 0.7605\n",
      "Epoch 62/100\n",
      "100/100 - 5s - loss: 0.6459 - acc: 0.6574 - f1_m: 0.7747 - val_loss: 0.6539 - val_acc: 0.6462 - val_f1_m: 0.7608\n",
      "Epoch 63/100\n",
      "100/100 - 5s - loss: 0.6454 - acc: 0.6579 - f1_m: 0.7747 - val_loss: 0.6529 - val_acc: 0.6497 - val_f1_m: 0.7615\n",
      "Epoch 64/100\n",
      "100/100 - 5s - loss: 0.6441 - acc: 0.6629 - f1_m: 0.7765 - val_loss: 0.6533 - val_acc: 0.6512 - val_f1_m: 0.7616\n",
      "Epoch 65/100\n",
      "\n",
      "Epoch 00065: saving model to /home/jovyan/examples/examples/tensorflow/project-2022-group-4/checkpoints/model_lower_hidden_train_2022_task2/cp-0065.ckpt\n",
      "100/100 - 5s - loss: 0.6444 - acc: 0.6639 - f1_m: 0.7747 - val_loss: 0.6522 - val_acc: 0.6535 - val_f1_m: 0.7601\n",
      "Epoch 66/100\n",
      "100/100 - 5s - loss: 0.6426 - acc: 0.6662 - f1_m: 0.7758 - val_loss: 0.6518 - val_acc: 0.6546 - val_f1_m: 0.7571\n",
      "Epoch 67/100\n",
      "100/100 - 5s - loss: 0.6424 - acc: 0.6695 - f1_m: 0.7739 - val_loss: 0.6525 - val_acc: 0.6521 - val_f1_m: 0.7536\n",
      "Epoch 68/100\n",
      "100/100 - 5s - loss: 0.6414 - acc: 0.6723 - f1_m: 0.7761 - val_loss: 0.6513 - val_acc: 0.6584 - val_f1_m: 0.7563\n",
      "Epoch 69/100\n",
      "100/100 - 5s - loss: 0.6404 - acc: 0.6768 - f1_m: 0.7782 - val_loss: 0.6505 - val_acc: 0.6597 - val_f1_m: 0.7550\n",
      "Epoch 70/100\n",
      "\n",
      "Epoch 00070: saving model to /home/jovyan/examples/examples/tensorflow/project-2022-group-4/checkpoints/model_lower_hidden_train_2022_task2/cp-0070.ckpt\n",
      "100/100 - 5s - loss: 0.6396 - acc: 0.6825 - f1_m: 0.7800 - val_loss: 0.6506 - val_acc: 0.6570 - val_f1_m: 0.7529\n",
      "Epoch 71/100\n",
      "100/100 - 5s - loss: 0.6386 - acc: 0.6800 - f1_m: 0.7803 - val_loss: 0.6485 - val_acc: 0.6585 - val_f1_m: 0.7586\n",
      "Epoch 72/100\n",
      "100/100 - 5s - loss: 0.6391 - acc: 0.6784 - f1_m: 0.7767 - val_loss: 0.6500 - val_acc: 0.6559 - val_f1_m: 0.7522\n",
      "Epoch 73/100\n",
      "100/100 - 5s - loss: 0.6368 - acc: 0.6853 - f1_m: 0.7807 - val_loss: 0.6479 - val_acc: 0.6585 - val_f1_m: 0.7549\n",
      "Epoch 74/100\n",
      "100/100 - 5s - loss: 0.6373 - acc: 0.6785 - f1_m: 0.7772 - val_loss: 0.6476 - val_acc: 0.6603 - val_f1_m: 0.7568\n",
      "Epoch 75/100\n",
      "\n",
      "Epoch 00075: saving model to /home/jovyan/examples/examples/tensorflow/project-2022-group-4/checkpoints/model_lower_hidden_train_2022_task2/cp-0075.ckpt\n",
      "100/100 - 5s - loss: 0.6358 - acc: 0.6858 - f1_m: 0.7799 - val_loss: 0.6481 - val_acc: 0.6579 - val_f1_m: 0.7569\n",
      "Epoch 76/100\n",
      "100/100 - 5s - loss: 0.6357 - acc: 0.6854 - f1_m: 0.7782 - val_loss: 0.6482 - val_acc: 0.6541 - val_f1_m: 0.7466\n",
      "Epoch 77/100\n",
      "100/100 - 5s - loss: 0.6357 - acc: 0.6851 - f1_m: 0.7775 - val_loss: 0.6470 - val_acc: 0.6593 - val_f1_m: 0.7490\n",
      "Epoch 78/100\n",
      "100/100 - 5s - loss: 0.6335 - acc: 0.6889 - f1_m: 0.7803 - val_loss: 0.6460 - val_acc: 0.6588 - val_f1_m: 0.7517\n",
      "Epoch 79/100\n",
      "100/100 - 5s - loss: 0.6330 - acc: 0.6892 - f1_m: 0.7784 - val_loss: 0.6463 - val_acc: 0.6586 - val_f1_m: 0.7521\n",
      "Epoch 80/100\n",
      "\n",
      "Epoch 00080: saving model to /home/jovyan/examples/examples/tensorflow/project-2022-group-4/checkpoints/model_lower_hidden_train_2022_task2/cp-0080.ckpt\n",
      "100/100 - 5s - loss: 0.6328 - acc: 0.6902 - f1_m: 0.7801 - val_loss: 0.6477 - val_acc: 0.6510 - val_f1_m: 0.7381\n",
      "Epoch 81/100\n",
      "100/100 - 5s - loss: 0.6317 - acc: 0.6916 - f1_m: 0.7783 - val_loss: 0.6452 - val_acc: 0.6583 - val_f1_m: 0.7498\n",
      "Epoch 82/100\n",
      "100/100 - 5s - loss: 0.6297 - acc: 0.6951 - f1_m: 0.7822 - val_loss: 0.6447 - val_acc: 0.6615 - val_f1_m: 0.7504\n",
      "Epoch 83/100\n",
      "100/100 - 5s - loss: 0.6296 - acc: 0.6914 - f1_m: 0.7783 - val_loss: 0.6446 - val_acc: 0.6599 - val_f1_m: 0.7489\n",
      "Epoch 84/100\n",
      "100/100 - 5s - loss: 0.6282 - acc: 0.6953 - f1_m: 0.7802 - val_loss: 0.6440 - val_acc: 0.6588 - val_f1_m: 0.7469\n",
      "Epoch 85/100\n",
      "\n",
      "Epoch 00085: saving model to /home/jovyan/examples/examples/tensorflow/project-2022-group-4/checkpoints/model_lower_hidden_train_2022_task2/cp-0085.ckpt\n",
      "100/100 - 5s - loss: 0.6277 - acc: 0.6984 - f1_m: 0.7825 - val_loss: 0.6445 - val_acc: 0.6568 - val_f1_m: 0.7465\n",
      "Epoch 86/100\n",
      "100/100 - 5s - loss: 0.6283 - acc: 0.6955 - f1_m: 0.7792 - val_loss: 0.6460 - val_acc: 0.6503 - val_f1_m: 0.7348\n",
      "Epoch 87/100\n",
      "100/100 - 5s - loss: 0.6277 - acc: 0.6970 - f1_m: 0.7797 - val_loss: 0.6433 - val_acc: 0.6584 - val_f1_m: 0.7436\n",
      "Epoch 88/100\n",
      "100/100 - 5s - loss: 0.6261 - acc: 0.6970 - f1_m: 0.7801 - val_loss: 0.6428 - val_acc: 0.6578 - val_f1_m: 0.7440\n",
      "Epoch 89/100\n",
      "100/100 - 5s - loss: 0.6243 - acc: 0.7014 - f1_m: 0.7832 - val_loss: 0.6421 - val_acc: 0.6598 - val_f1_m: 0.7436\n",
      "Epoch 90/100\n",
      "\n",
      "Epoch 00090: saving model to /home/jovyan/examples/examples/tensorflow/project-2022-group-4/checkpoints/model_lower_hidden_train_2022_task2/cp-0090.ckpt\n",
      "100/100 - 5s - loss: 0.6250 - acc: 0.6981 - f1_m: 0.7776 - val_loss: 0.6437 - val_acc: 0.6547 - val_f1_m: 0.7402\n",
      "Epoch 91/100\n",
      "100/100 - 5s - loss: 0.6243 - acc: 0.6999 - f1_m: 0.7795 - val_loss: 0.6424 - val_acc: 0.6571 - val_f1_m: 0.7445\n",
      "Epoch 92/100\n",
      "100/100 - 5s - loss: 0.6227 - acc: 0.7029 - f1_m: 0.7836 - val_loss: 0.6423 - val_acc: 0.6525 - val_f1_m: 0.7403\n"
     ]
    },
    {
     "data": {
      "image/png": "[encoded data removed]",
      "text/plain": [
       "<Figure size 432x288 with 1 Axes>"
      ]
     },
     "metadata": {
      "needs_background": "light"
     },
     "output_type": "display_data"
    },
    {
     "data": {
      "image/png": "[encoded data removed]",
      "text/plain": [
       "<Figure size 432x288 with 1 Axes>"
      ]
     },
     "metadata": {
      "needs_background": "light"
     },
     "output_type": "display_data"
    }
   ],
   "source": [
    "run_model(chosen_datasetname='train_2022_task2',\n",
    "          custom_modelname='model_lower_hidden_train_2022_task2',\n",
    "          model_fun=model_lower_hidden,\n",
    "          optimizer=opt_Adam2,\n",
    "          BATCH_SIZE=256,\n",
    "          EPOCHS=100,\n",
    "          STEPS_PER_EPOCH = 100,\n",
    "          verbose = 2,\n",
    "          max_len = 100,\n",
    "          early_stopping = True,\n",
    "          max_words = 5000\n",
    "         )"
   ]
  },
  {
   "cell_type": "markdown",
   "metadata": {},
   "source": [
    "### *Model C*"
   ]
  },
  {
   "cell_type": "code",
   "execution_count": 9,
   "metadata": {
    "execution": {
     "iopub.execute_input": "2022-04-27T12:51:06.754640Z",
     "iopub.status.busy": "2022-04-27T12:51:06.754259Z",
     "iopub.status.idle": "2022-04-27T12:51:06.764482Z",
     "shell.execute_reply": "2022-04-27T12:51:06.763666Z",
     "shell.execute_reply.started": "2022-04-27T12:51:06.754605Z"
    },
    "tags": []
   },
   "outputs": [],
   "source": [
    "def model_double_hidden_fc(max_len, tokenizer, embed_matrix, embedding_dim, optimizer):\n",
    "    \n",
    "    \"\"\"\n",
    "    \n",
    "    This model is the same as model_lower_hidden but also includes an extra fully connected lower before the final layer.\n",
    "    \n",
    "    \"\"\"\n",
    "    \n",
    "    input_1 = Input(shape=(max_len,))\n",
    "    input_2 = Input(shape=(max_len,))\n",
    "\n",
    "    lstm_layer = Bidirectional(LSTM(100, dropout=0.2))\n",
    "    embeddings_initializer = Constant(embed_matrix)\n",
    "    emb =  Embedding(len(tokenizer.word_index)+1,\n",
    "                     embedding_dim,\n",
    "                     embeddings_initializer=embeddings_initializer,\n",
    "                     input_length=max_len,\n",
    "                     weights=[embed_matrix],\n",
    "                     trainable=True)\n",
    "\n",
    "    e1 = emb(input_1)\n",
    "    x1 = lstm_layer(e1)\n",
    "\n",
    "    e2 = emb(input_2)\n",
    "    x2 = lstm_layer(e2)\n",
    "\n",
    "    mhd = lambda x: exponent_neg_cosine_distance(x[0], x[1]) \n",
    "    merged = Lambda(function=mhd, output_shape=lambda x: x[0], name='cosine_distance')([x1, x2])\n",
    "    fc = Dense(500, activation='sigmoid')(merged)\n",
    "    preds = Dense(1, activation='sigmoid')(fc)\n",
    "    model = Model(inputs=[input_1, input_2], outputs=preds)\n",
    "\n",
    "    model.compile(loss = \"binary_crossentropy\",  metrics=['acc',f1_m], optimizer = optimizer)\n",
    "\n",
    "    return model"
   ]
  },
  {
   "cell_type": "code",
   "execution_count": 41,
   "metadata": {
    "execution": {
     "iopub.execute_input": "2022-04-22T09:49:25.564084Z",
     "iopub.status.busy": "2022-04-22T09:49:25.563780Z",
     "iopub.status.idle": "2022-04-22T09:52:33.542711Z",
     "shell.execute_reply": "2022-04-22T09:52:33.542198Z",
     "shell.execute_reply.started": "2022-04-22T09:49:25.564056Z"
    },
    "tags": []
   },
   "outputs": [
    {
     "name": "stdout",
     "output_type": "stream",
     "text": [
      "Found 400000 word vectors.\n",
      "Loaded 400000 word vectors.\n",
      "(3001, 50)\n",
      "Epoch 1/100\n",
      "100/100 - 11s - loss: 0.6660 - acc: 0.6185 - f1_m: 0.7639 - val_loss: 0.6676 - val_acc: 0.6105 - val_f1_m: 0.7577\n",
      "Epoch 2/100\n",
      "100/100 - 5s - loss: 0.6649 - acc: 0.6126 - f1_m: 0.7593 - val_loss: 0.6634 - val_acc: 0.6110 - val_f1_m: 0.7581\n",
      "Epoch 3/100\n",
      "100/100 - 5s - loss: 0.6599 - acc: 0.6160 - f1_m: 0.7619 - val_loss: 0.6599 - val_acc: 0.6116 - val_f1_m: 0.7587\n",
      "Epoch 4/100\n",
      "100/100 - 5s - loss: 0.6553 - acc: 0.6173 - f1_m: 0.7630 - val_loss: 0.6576 - val_acc: 0.6104 - val_f1_m: 0.7576\n",
      "Epoch 5/100\n",
      "\n",
      "Epoch 00005: saving model to /home/jovyan/examples/examples/tensorflow/project-2022-group-4/checkpoints/model_double_hidden_fc_train_2022_task2/cp-0005.ckpt\n",
      "100/100 - 5s - loss: 0.6524 - acc: 0.6145 - f1_m: 0.7609 - val_loss: 0.6535 - val_acc: 0.6107 - val_f1_m: 0.7580\n",
      "Epoch 6/100\n",
      "100/100 - 5s - loss: 0.6482 - acc: 0.6166 - f1_m: 0.7622 - val_loss: 0.6488 - val_acc: 0.6300 - val_f1_m: 0.7597\n",
      "Epoch 7/100\n",
      "100/100 - 5s - loss: 0.6445 - acc: 0.6186 - f1_m: 0.7623 - val_loss: 0.6476 - val_acc: 0.6330 - val_f1_m: 0.7528\n",
      "Epoch 8/100\n",
      "100/100 - 5s - loss: 0.6401 - acc: 0.6292 - f1_m: 0.7629 - val_loss: 0.6486 - val_acc: 0.6273 - val_f1_m: 0.7254\n",
      "Epoch 9/100\n",
      "100/100 - 5s - loss: 0.6372 - acc: 0.6359 - f1_m: 0.7618 - val_loss: 0.6402 - val_acc: 0.6385 - val_f1_m: 0.7485\n",
      "Epoch 10/100\n",
      "\n",
      "Epoch 00010: saving model to /home/jovyan/examples/examples/tensorflow/project-2022-group-4/checkpoints/model_double_hidden_fc_train_2022_task2/cp-0010.ckpt\n",
      "100/100 - 5s - loss: 0.6321 - acc: 0.6440 - f1_m: 0.7639 - val_loss: 0.6373 - val_acc: 0.6414 - val_f1_m: 0.7435\n",
      "Epoch 11/100\n",
      "100/100 - 5s - loss: 0.6292 - acc: 0.6509 - f1_m: 0.7617 - val_loss: 0.6363 - val_acc: 0.6420 - val_f1_m: 0.7493\n",
      "Epoch 12/100\n",
      "100/100 - 5s - loss: 0.6261 - acc: 0.6548 - f1_m: 0.7633 - val_loss: 0.6342 - val_acc: 0.6440 - val_f1_m: 0.7387\n",
      "Epoch 13/100\n",
      "100/100 - 5s - loss: 0.6252 - acc: 0.6512 - f1_m: 0.7579 - val_loss: 0.6330 - val_acc: 0.6412 - val_f1_m: 0.7284\n",
      "Epoch 14/100\n",
      "100/100 - 5s - loss: 0.6224 - acc: 0.6538 - f1_m: 0.7568 - val_loss: 0.6315 - val_acc: 0.6453 - val_f1_m: 0.7499\n",
      "Epoch 15/100\n",
      "\n",
      "Epoch 00015: saving model to /home/jovyan/examples/examples/tensorflow/project-2022-group-4/checkpoints/model_double_hidden_fc_train_2022_task2/cp-0015.ckpt\n",
      "100/100 - 5s - loss: 0.6198 - acc: 0.6604 - f1_m: 0.7579 - val_loss: 0.6287 - val_acc: 0.6462 - val_f1_m: 0.7368\n",
      "Epoch 16/100\n",
      "100/100 - 5s - loss: 0.6172 - acc: 0.6611 - f1_m: 0.7574 - val_loss: 0.6304 - val_acc: 0.6423 - val_f1_m: 0.7217\n",
      "Epoch 17/100\n",
      "100/100 - 5s - loss: 0.6131 - acc: 0.6634 - f1_m: 0.7589 - val_loss: 0.6279 - val_acc: 0.6499 - val_f1_m: 0.7429\n",
      "Epoch 18/100\n",
      "100/100 - 5s - loss: 0.6144 - acc: 0.6641 - f1_m: 0.7563 - val_loss: 0.6268 - val_acc: 0.6464 - val_f1_m: 0.7270\n",
      "Epoch 19/100\n",
      "100/100 - 5s - loss: 0.6095 - acc: 0.6704 - f1_m: 0.7603 - val_loss: 0.6242 - val_acc: 0.6516 - val_f1_m: 0.7368\n",
      "Epoch 20/100\n",
      "\n",
      "Epoch 00020: saving model to /home/jovyan/examples/examples/tensorflow/project-2022-group-4/checkpoints/model_double_hidden_fc_train_2022_task2/cp-0020.ckpt\n",
      "100/100 - 5s - loss: 0.6091 - acc: 0.6703 - f1_m: 0.7586 - val_loss: 0.6254 - val_acc: 0.6467 - val_f1_m: 0.7234\n",
      "Epoch 21/100\n",
      "100/100 - 5s - loss: 0.6054 - acc: 0.6728 - f1_m: 0.7581 - val_loss: 0.6254 - val_acc: 0.6464 - val_f1_m: 0.7243\n",
      "Epoch 22/100\n",
      "100/100 - 5s - loss: 0.6061 - acc: 0.6722 - f1_m: 0.7572 - val_loss: 0.6236 - val_acc: 0.6502 - val_f1_m: 0.7219\n",
      "Epoch 23/100\n",
      "100/100 - 5s - loss: 0.6030 - acc: 0.6762 - f1_m: 0.7614 - val_loss: 0.6227 - val_acc: 0.6480 - val_f1_m: 0.7261\n",
      "Epoch 24/100\n",
      "100/100 - 5s - loss: 0.6013 - acc: 0.6785 - f1_m: 0.7623 - val_loss: 0.6219 - val_acc: 0.6485 - val_f1_m: 0.7250\n",
      "Epoch 25/100\n",
      "\n",
      "Epoch 00025: saving model to /home/jovyan/examples/examples/tensorflow/project-2022-group-4/checkpoints/model_double_hidden_fc_train_2022_task2/cp-0025.ckpt\n",
      "100/100 - 5s - loss: 0.5995 - acc: 0.6794 - f1_m: 0.7623 - val_loss: 0.6241 - val_acc: 0.6548 - val_f1_m: 0.7416\n",
      "Epoch 26/100\n",
      "100/100 - 5s - loss: 0.5987 - acc: 0.6736 - f1_m: 0.7589 - val_loss: 0.6247 - val_acc: 0.6430 - val_f1_m: 0.7131\n",
      "Epoch 27/100\n",
      "100/100 - 5s - loss: 0.5953 - acc: 0.6825 - f1_m: 0.7643 - val_loss: 0.6203 - val_acc: 0.6517 - val_f1_m: 0.7290\n",
      "Epoch 28/100\n",
      "100/100 - 5s - loss: 0.5946 - acc: 0.6839 - f1_m: 0.7644 - val_loss: 0.6191 - val_acc: 0.6532 - val_f1_m: 0.7289\n",
      "Epoch 29/100\n",
      "100/100 - 5s - loss: 0.5943 - acc: 0.6843 - f1_m: 0.7625 - val_loss: 0.6189 - val_acc: 0.6531 - val_f1_m: 0.7258\n",
      "Epoch 30/100\n",
      "\n",
      "Epoch 00030: saving model to /home/jovyan/examples/examples/tensorflow/project-2022-group-4/checkpoints/model_double_hidden_fc_train_2022_task2/cp-0030.ckpt\n",
      "100/100 - 5s - loss: 0.5928 - acc: 0.6844 - f1_m: 0.7632 - val_loss: 0.6193 - val_acc: 0.6552 - val_f1_m: 0.7358\n",
      "Epoch 31/100\n",
      "100/100 - 5s - loss: 0.5905 - acc: 0.6880 - f1_m: 0.7690 - val_loss: 0.6195 - val_acc: 0.6568 - val_f1_m: 0.7357\n",
      "Epoch 32/100\n",
      "100/100 - 5s - loss: 0.5911 - acc: 0.6846 - f1_m: 0.7644 - val_loss: 0.6167 - val_acc: 0.6580 - val_f1_m: 0.7354\n",
      "Epoch 33/100\n",
      "100/100 - 5s - loss: 0.5879 - acc: 0.6879 - f1_m: 0.7666 - val_loss: 0.6183 - val_acc: 0.6597 - val_f1_m: 0.7392\n",
      "Epoch 34/100\n",
      "100/100 - 5s - loss: 0.5870 - acc: 0.6866 - f1_m: 0.7638 - val_loss: 0.6182 - val_acc: 0.6607 - val_f1_m: 0.7426\n",
      "Epoch 35/100\n",
      "\n",
      "Epoch 00035: saving model to /home/jovyan/examples/examples/tensorflow/project-2022-group-4/checkpoints/model_double_hidden_fc_train_2022_task2/cp-0035.ckpt\n",
      "100/100 - 5s - loss: 0.5867 - acc: 0.6916 - f1_m: 0.7666 - val_loss: 0.6214 - val_acc: 0.6484 - val_f1_m: 0.7090\n"
     ]
    },
    {
     "data": {
      "image/png": "[encoded data removed]",
      "text/plain": [
       "<Figure size 432x288 with 1 Axes>"
      ]
     },
     "metadata": {
      "needs_background": "light"
     },
     "output_type": "display_data"
    },
    {
     "data": {
      "image/png": "[encoded data removed]",
      "text/plain": [
       "<Figure size 432x288 with 1 Axes>"
      ]
     },
     "metadata": {
      "needs_background": "light"
     },
     "output_type": "display_data"
    }
   ],
   "source": [
    "run_model(chosen_datasetname='train_2022_task2',\n",
    "          custom_modelname='model_double_hidden_fc_train_2022_task2', # test* is in gitignore, for testing without uploading\n",
    "          model_fun=model_double_hidden_fc,\n",
    "          optimizer=opt_Adam2,\n",
    "          BATCH_SIZE=256,\n",
    "          EPOCHS=100,\n",
    "          STEPS_PER_EPOCH = 100,\n",
    "          verbose = 2,\n",
    "          max_len = 100,\n",
    "          early_stopping = True,\n",
    "          max_words = 3000\n",
    "         )"
   ]
  },
  {
   "cell_type": "markdown",
   "metadata": {},
   "source": [
    "## 2. Evaluating models on 'Test' data"
   ]
  },
  {
   "cell_type": "code",
   "execution_count": 14,
   "metadata": {
    "execution": {
     "iopub.execute_input": "2022-04-27T12:55:57.367017Z",
     "iopub.status.busy": "2022-04-27T12:55:57.366739Z",
     "iopub.status.idle": "2022-04-27T12:55:57.702721Z",
     "shell.execute_reply": "2022-04-27T12:55:57.702175Z",
     "shell.execute_reply.started": "2022-04-27T12:55:57.366991Z"
    },
    "tags": []
   },
   "outputs": [],
   "source": [
    "training_data = pd.read_csv(config.processed_datasets.get('train_2022_task2'))\n",
    "testing_data = pd.read_csv(config.processed_datasets.get('valid_2022_task2'))"
   ]
  },
  {
   "cell_type": "markdown",
   "metadata": {},
   "source": [
    "### *MODEL A*"
   ]
  },
  {
   "cell_type": "code",
   "execution_count": 15,
   "metadata": {
    "execution": {
     "iopub.execute_input": "2022-04-27T12:55:59.952476Z",
     "iopub.status.busy": "2022-04-27T12:55:59.952202Z",
     "iopub.status.idle": "2022-04-27T12:56:08.752599Z",
     "shell.execute_reply": "2022-04-27T12:56:08.751926Z",
     "shell.execute_reply.started": "2022-04-27T12:55:59.952451Z"
    },
    "tags": []
   },
   "outputs": [
    {
     "name": "stdout",
     "output_type": "stream",
     "text": [
      "Found 400000 word vectors.\n",
      "Loaded 400000 word vectors.\n",
      "(10001, 50)\n"
     ]
    }
   ],
   "source": [
    "#The tokenizer used should the same as that used on the training data for this specific model\n",
    "tokenizer = get_tokenizer(training_data, max_words=10000)\n",
    "embed_matrix = get_embed_matrix(tokenizer, embedding_dim=50)\n",
    "\n",
    "#Creating datagenerator for the testing data with the specific tokenizer\n",
    "testing_data_siamese = DataGeneratorSiamese(testing_data,\n",
    "                                             tokenizer=tokenizer,\n",
    "                                             max_len=100)\n",
    "testing_data_siamese.on_epoch_end()"
   ]
  },
  {
   "cell_type": "code",
   "execution_count": 16,
   "metadata": {
    "execution": {
     "iopub.execute_input": "2022-04-27T12:56:08.753988Z",
     "iopub.status.busy": "2022-04-27T12:56:08.753765Z",
     "iopub.status.idle": "2022-04-27T12:56:14.459323Z",
     "shell.execute_reply": "2022-04-27T12:56:14.458776Z",
     "shell.execute_reply.started": "2022-04-27T12:56:08.753966Z"
    },
    "tags": []
   },
   "outputs": [
    {
     "name": "stdout",
     "output_type": "stream",
     "text": [
      "298/298 [==============================] - 5s 10ms/step - loss: 0.6227 - acc: 0.6542 - f1_m: 0.7169\n"
     ]
    },
    {
     "data": {
      "text/plain": [
       "[0.6270022392272949, 0.6477558612823486, 0.7109122276306152]"
      ]
     },
     "execution_count": 16,
     "metadata": {},
     "output_type": "execute_result"
    }
   ],
   "source": [
    "#Creating model equivalent to model A\n",
    "modelA = model_no_dropout(max_len=100,tokenizer=tokenizer,embed_matrix=embed_matrix,embedding_dim=50, optimizer=opt_Adam)\n",
    "\n",
    "#Loading saved model weights\n",
    "checkpoint_path = config.checkpoints.get(\"dir\") + 'model_no_dropout_train_2022_task2' + '/'\n",
    "checkpoint_dir = os.path.dirname(checkpoint_path)\n",
    "latest = tf.train.latest_checkpoint(checkpoint_dir)\n",
    "modelA.load_weights(latest)\n",
    "\n",
    "#Evaluating testing data\n",
    "modelA.evaluate(testing_data_siamese)"
   ]
  },
  {
   "cell_type": "markdown",
   "metadata": {},
   "source": [
    "### *Model B*"
   ]
  },
  {
   "cell_type": "code",
   "execution_count": 17,
   "metadata": {
    "execution": {
     "iopub.execute_input": "2022-04-27T12:56:23.485753Z",
     "iopub.status.busy": "2022-04-27T12:56:23.485371Z",
     "iopub.status.idle": "2022-04-27T12:56:32.363198Z",
     "shell.execute_reply": "2022-04-27T12:56:32.362644Z",
     "shell.execute_reply.started": "2022-04-27T12:56:23.485718Z"
    },
    "tags": []
   },
   "outputs": [
    {
     "name": "stdout",
     "output_type": "stream",
     "text": [
      "Found 400000 word vectors.\n",
      "Loaded 400000 word vectors.\n",
      "(5001, 50)\n"
     ]
    }
   ],
   "source": [
    "#The tokenizer used should the same as that used on the training data for this specific model\n",
    "tokenizer = get_tokenizer(training_data, max_words=5000)\n",
    "embed_matrix = get_embed_matrix(tokenizer, embedding_dim=50)\n",
    "\n",
    "#Creating datagenerator for the testing data with the specific tokenizer\n",
    "testing_data_siamese = DataGeneratorSiamese(testing_data,\n",
    "                                             tokenizer=tokenizer,\n",
    "                                             max_len=100)\n",
    "testing_data_siamese.on_epoch_end()"
   ]
  },
  {
   "cell_type": "code",
   "execution_count": 18,
   "metadata": {
    "execution": {
     "iopub.execute_input": "2022-04-27T12:56:35.527829Z",
     "iopub.status.busy": "2022-04-27T12:56:35.527115Z",
     "iopub.status.idle": "2022-04-27T12:56:41.349457Z",
     "shell.execute_reply": "2022-04-27T12:56:41.348922Z",
     "shell.execute_reply.started": "2022-04-27T12:56:35.527787Z"
    },
    "tags": []
   },
   "outputs": [
    {
     "name": "stdout",
     "output_type": "stream",
     "text": [
      "298/298 [==============================] - 5s 10ms/step - loss: 0.6371 - acc: 0.6649 - f1_m: 0.7462\n"
     ]
    },
    {
     "data": {
      "text/plain": [
       "[0.6386151313781738, 0.6587668061256409, 0.738300085067749]"
      ]
     },
     "execution_count": 18,
     "metadata": {},
     "output_type": "execute_result"
    }
   ],
   "source": [
    "#Creating model equivalent to model A\n",
    "modelB = model_lower_hidden(max_len=100,tokenizer=tokenizer,embed_matrix=embed_matrix,embedding_dim=50, optimizer=opt_Adam2)\n",
    "\n",
    "#Loading saved model weights\n",
    "checkpoint_path = config.checkpoints.get(\"dir\") + 'model_lower_hidden_train_2022_task2' + '/'\n",
    "checkpoint_dir = os.path.dirname(checkpoint_path)\n",
    "latest = tf.train.latest_checkpoint(checkpoint_dir)\n",
    "modelB.load_weights(latest)\n",
    "\n",
    "#Evaluating testing data\n",
    "modelB.evaluate(testing_data_siamese)"
   ]
  },
  {
   "cell_type": "markdown",
   "metadata": {},
   "source": [
    "### *Model C*"
   ]
  },
  {
   "cell_type": "code",
   "execution_count": 19,
   "metadata": {
    "execution": {
     "iopub.execute_input": "2022-04-27T12:56:44.324545Z",
     "iopub.status.busy": "2022-04-27T12:56:44.324233Z",
     "iopub.status.idle": "2022-04-27T12:56:52.983862Z",
     "shell.execute_reply": "2022-04-27T12:56:52.983189Z",
     "shell.execute_reply.started": "2022-04-27T12:56:44.324521Z"
    },
    "tags": []
   },
   "outputs": [
    {
     "name": "stdout",
     "output_type": "stream",
     "text": [
      "Found 400000 word vectors.\n",
      "Loaded 400000 word vectors.\n",
      "(3001, 50)\n"
     ]
    }
   ],
   "source": [
    "#The tokenizer used should the same as that used on the training data for this specific model\n",
    "tokenizer = get_tokenizer(training_data, max_words=3000)\n",
    "embed_matrix = get_embed_matrix(tokenizer, embedding_dim=50)\n",
    "\n",
    "#Creating datagenerator for the testing data with the specific tokenizer\n",
    "testing_data_siamese = DataGeneratorSiamese(testing_data,\n",
    "                                             tokenizer=tokenizer,\n",
    "                                             max_len=100)\n",
    "testing_data_siamese.on_epoch_end()"
   ]
  },
  {
   "cell_type": "code",
   "execution_count": 20,
   "metadata": {
    "execution": {
     "iopub.execute_input": "2022-04-27T12:56:55.124171Z",
     "iopub.status.busy": "2022-04-27T12:56:55.123800Z",
     "iopub.status.idle": "2022-04-27T12:57:00.662833Z",
     "shell.execute_reply": "2022-04-27T12:57:00.662199Z",
     "shell.execute_reply.started": "2022-04-27T12:56:55.124137Z"
    },
    "tags": []
   },
   "outputs": [
    {
     "name": "stdout",
     "output_type": "stream",
     "text": [
      "298/298 [==============================] - 5s 10ms/step - loss: 0.6178 - acc: 0.6512 - f1_m: 0.7066\n"
     ]
    },
    {
     "data": {
      "text/plain": [
       "[0.613002359867096, 0.6527894139289856, 0.7045748829841614]"
      ]
     },
     "execution_count": 20,
     "metadata": {},
     "output_type": "execute_result"
    }
   ],
   "source": [
    "#Creating model equivalent to model C\n",
    "modelC = model_double_hidden_fc(max_len=100,tokenizer=tokenizer,embed_matrix=embed_matrix,embedding_dim=50, optimizer=opt_Adam2)\n",
    "\n",
    "#Loading saved model weights\n",
    "checkpoint_path = config.checkpoints.get(\"dir\") + 'model_double_hidden_fc_train_2022_task2' + '/'\n",
    "checkpoint_dir = os.path.dirname(checkpoint_path)\n",
    "latest = tf.train.latest_checkpoint(checkpoint_dir)\n",
    "modelC.load_weights(latest)\n",
    "\n",
    "#Evaluating testing data\n",
    "modelC.evaluate(testing_data_siamese)"
   ]
  }
 ],
 "metadata": {
  "interpreter": {
   "hash": "90da37984af7e3fbe8899102077306def4126a313e5f15e1e03267860084f836"
  },
  "kernelspec": {
   "display_name": "Python 3",
   "language": "python",
   "name": "python3"
  },
  "language_info": {
   "codemirror_mode": {
    "name": "ipython",
    "version": 3
   },
   "file_extension": ".py",
   "mimetype": "text/x-python",
   "name": "python",
   "nbconvert_exporter": "python",
   "pygments_lexer": "ipython3",
   "version": "3.8.8"
  }
 },
 "nbformat": 4,
 "nbformat_minor": 4
}
