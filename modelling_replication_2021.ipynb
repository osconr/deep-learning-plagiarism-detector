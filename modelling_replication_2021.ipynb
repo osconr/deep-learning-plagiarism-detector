{
 "cells": [
  {
   "cell_type": "markdown",
   "metadata": {},
   "source": [
    "# Replication of Nath 2021\n",
    "\n",
    "This file is _our_ replication of the results Nath (2021). The Nath (2021) code has been cleaned and fixed in order to get these results."
   ]
  },
  {
   "cell_type": "code",
   "execution_count": 1,
   "metadata": {},
   "outputs": [],
   "source": [
    "# Other packages \n",
    "\n",
    "import pandas as pd\n",
    "import numpy as np\n",
    "import os\n",
    "import config\n",
    "\n",
    "# Tensorflow\n",
    "\n",
    "import tensorflow as tf\n",
    "from tensorflow.keras.preprocessing.text import Tokenizer\n",
    "from tensorflow.keras.preprocessing.sequence import pad_sequences\n",
    "from tensorflow.keras.layers import Input\n",
    "from tensorflow.keras.layers import Bidirectional\n",
    "from tensorflow.keras.layers import Dense, Embedding, LSTM\n",
    "from tensorflow.keras.layers import Lambda\n",
    "from tensorflow.keras.models import Model\n",
    "from tensorflow.keras.optimizers import Adam\n",
    "from tensorflow.keras.initializers import Constant\n",
    "from tensorflow.keras.utils import Sequence, plot_model\n",
    "\n",
    "# Set seed\n",
    "# Won't replicate with all seeds, Nath uses no seed\n",
    "\n",
    "tf.random.set_seed(8)\n",
    "np.random.seed(8)"
   ]
  },
  {
   "cell_type": "code",
   "execution_count": 1,
   "metadata": {},
   "outputs": [],
   "source": [
    "#### Download GloveEmbeddings\n",
    "\n",
    "# - The following code chunk can be used to download the word embeddings, and extracts the correct file from the zip\n",
    "# - Is included in gitignore so will be kept on your computer\n",
    "\n",
    "#import urllib.request\n",
    "#import shutil\n",
    "#import zipfile\n",
    "#urllib.request.urlretrieve('http://nlp.stanford.edu/data/glove.6B.zip', 'glove.6B.zip')\n",
    "#shutil.move(config.base_dir+'glove.6B.zip', config.base_dir+'embeddings/glove.6B.zip')\n",
    "#with zipfile.ZipFile(config.base_dir+'embeddings/glove.6B.zip', 'r') as zfile:\n",
    "#    unpacked = open(config.base_dir+'embeddings/glove.6B.50d.txt', 'w')\n",
    "#    unpacked.write(zfile.read('glove.6B.50d.txt').decode('utf-8'))\n",
    "#    unpacked.close()"
   ]
  },
  {
   "cell_type": "markdown",
   "metadata": {},
   "source": [
    "## Functions"
   ]
  },
  {
   "cell_type": "markdown",
   "metadata": {},
   "source": [
    "### Data prep"
   ]
  },
  {
   "cell_type": "code",
   "execution_count": 2,
   "metadata": {},
   "outputs": [],
   "source": [
    "# https://stanford.edu/~shervine/blog/keras-how-to-generate-data-on-the-fly\n",
    "\n",
    "class DataGeneratorSiamese(Sequence):\n",
    "    \"\"\"\n",
    "    Data Generator for the Koppel Blog Corpus for the Baseline_using_MGBD notebook.\n",
    "    \"\"\"\n",
    "    'Generates data for keras'\n",
    "    def __init__(self, df, tokenizer, max_len=300,  batch_size= 32, num_clases = 2, shuffle = False):\n",
    "        #self.file = file\n",
    "        self.max_len = max_len\n",
    "        self.batch_size = batch_size\n",
    "        self.df = df #pd.read_csv(open(file))\n",
    "        self.indices = self.df.index.to_list()\n",
    "        self.num_classes = num_clases\n",
    "        self.shuffle = shuffle\n",
    "        self.tokenizer = tokenizer\n",
    "\n",
    "        #self.on_epoch_end()\n",
    "\n",
    "    def __len__(self):\n",
    "        return len(self.indices)//self.batch_size\n",
    "\n",
    "    def __getitem__(self, index):\n",
    "        # Generate one batch of data\n",
    "        # Generate indices of the batch\n",
    "        index = self.index[index * self.batch_size:(index + 1) * self.batch_size]  # Select the list of IDs to return as batch\n",
    "        batch = [self.indices[k] for k in index]  # Generate data\n",
    "        X, y = self.__get_data(batch)\n",
    "        return X, y\n",
    "\n",
    "    def on_epoch_end(self):\n",
    "        self.index = np.arange(len(self.indices))\n",
    "        if self.shuffle == True:\n",
    "            np.random.shuffle(self.index)\n",
    "\n",
    "    def __get_data(self, batch):\n",
    "        \"\"\"\n",
    "        This function gets a list of selected indices to form selected batch. A transformation is performed to create X and Y.\n",
    "        X is the cosine similarity between the embedded paragraphs P1 and P2.\n",
    "        :param batch: selected indices for df\n",
    "        :return: batch of data\n",
    "        \"\"\"\n",
    "        # == signifies, same author, != signifies diff author. flipping to observe the difference if any\n",
    "        y = ((self.df.loc[batch]['author_1'] != self.df.loc[batch]['author_2']).astype(int)).to_numpy() # labels\n",
    "        p1_column = self.df.loc[batch]['para1_text'].values\n",
    "        p2_column = self.df.loc[batch]['para2_text'].values\n",
    "        p1_embed = self.tokenizer.texts_to_sequences(p1_column)\n",
    "        p2_embed = self.tokenizer.texts_to_sequences(p2_column)\n",
    "        p1_embed = pad_sequences(p1_embed, maxlen=self.max_len, padding='post')\n",
    "        p2_embed = pad_sequences(p2_embed, maxlen=self.max_len, padding='post')\n",
    "        #print(p1_embed[0].shape, p2_embed[0].shape)\n",
    "        #X = np.array([np.squeeze(cosine_similarity([p1_embed[i]], [p2_embed[i]])) for i in range(len(p1_embed))]) # cosine_similarity(p1_embed, p2_embed)\n",
    "        #print(X.shape)\n",
    "        # to_categorical(y, num_classes=self.num_classes)\n",
    "        return [p1_embed, p2_embed], y"
   ]
  },
  {
   "cell_type": "markdown",
   "metadata": {},
   "source": [
    "### Tokenizers"
   ]
  },
  {
   "cell_type": "code",
   "execution_count": 3,
   "metadata": {},
   "outputs": [],
   "source": [
    "def get_tokenizer(training_data, max_words):\n",
    "    combined = training_data[\"para1_text\"] + \" \" + training_data[\"para2_text\"]\n",
    "    tokenizer = Tokenizer(num_words=max_words, oov_token=\"<OOV>\")\n",
    "    tokenizer.fit_on_texts(combined.values)\n",
    "    return tokenizer\n",
    "\n",
    "def get_embed_matrix(tokenizer, embedding_dim):\n",
    "    embeddings_index = {}\n",
    "    f = open(config.config_io.get(\"embedding\")) \n",
    "    for line in f:\n",
    "        values = line.split()\n",
    "        word = values[0]\n",
    "        coefs = np.asarray(values[1:], dtype='float32')\n",
    "        embeddings_index[word] = coefs\n",
    "    f.close()\n",
    "    print('Found %s word vectors.' % len(embeddings_index))\n",
    "    embed_matrix = get_glove_embed_matrix(tokenizer, embeddings_index, embedding_vector_size = embedding_dim)\n",
    "    print(embed_matrix.shape)  \n",
    "    return embed_matrix\n",
    "\n",
    "def get_glove_embed_matrix(t, embeddings_index, embedding_vector_size = 50):\n",
    "    \"\"\"\n",
    "    t: tokenizer\n",
    "\n",
    "    \"\"\"\n",
    "    not_present_list = []\n",
    "    vocab_size = len(t.word_index) + 1\n",
    "    embedding_matrix = np.zeros((vocab_size, len(embeddings_index['no'])))\n",
    "    for word, i in t.word_index.items():\n",
    "        embedding_vector = None\n",
    "        if word in embeddings_index.keys():\n",
    "            embedding_vector = embeddings_index.get(word)\n",
    "        else:\n",
    "            not_present_list.append(word)\n",
    "        if embedding_vector is not None:\n",
    "            embedding_matrix[i] = embedding_vector\n",
    "        else:\n",
    "            embedding_matrix[i] = np.zeros(embedding_vector_size) # size of the embedding\n",
    "    print('Loaded %s word vectors.' % len(embeddings_index))\n",
    "    return embedding_matrix    "
   ]
  },
  {
   "cell_type": "markdown",
   "metadata": {},
   "source": [
    "### Distance measures"
   ]
  },
  {
   "cell_type": "code",
   "execution_count": 4,
   "metadata": {},
   "outputs": [],
   "source": [
    "def exponent_neg_cosine_distance(left,right):\n",
    "    left = tf.keras.backend.l2_normalize(left, axis=-1)\n",
    "    right = tf.keras.backend.l2_normalize(right, axis=-1)\n",
    "    return tf.keras.backend.exp(tf.keras.backend.sum(tf.keras.backend.prod([left, right], axis=0), axis=1, keepdims=True))"
   ]
  },
  {
   "cell_type": "markdown",
   "metadata": {},
   "source": [
    "## Modelling LSTM 2021"
   ]
  },
  {
   "cell_type": "markdown",
   "metadata": {},
   "source": [
    "### Load data"
   ]
  },
  {
   "cell_type": "code",
   "execution_count": 5,
   "metadata": {},
   "outputs": [
    {
     "data": {
      "text/html": [
       "<div>\n",
       "<style scoped>\n",
       "    .dataframe tbody tr th:only-of-type {\n",
       "        vertical-align: middle;\n",
       "    }\n",
       "\n",
       "    .dataframe tbody tr th {\n",
       "        vertical-align: top;\n",
       "    }\n",
       "\n",
       "    .dataframe thead th {\n",
       "        text-align: right;\n",
       "    }\n",
       "</style>\n",
       "<table border=\"1\" class=\"dataframe\">\n",
       "  <thead>\n",
       "    <tr style=\"text-align: right;\">\n",
       "      <th></th>\n",
       "      <th>problem</th>\n",
       "      <th>author_1</th>\n",
       "      <th>author_2</th>\n",
       "      <th>para1_text</th>\n",
       "      <th>para2_text</th>\n",
       "    </tr>\n",
       "  </thead>\n",
       "  <tbody>\n",
       "    <tr>\n",
       "      <th>0</th>\n",
       "      <td>problem-9368.txt</td>\n",
       "      <td>1</td>\n",
       "      <td>2</td>\n",
       "      <td>I just bought a Rasberry Pi and I want to turn...</td>\n",
       "      <td>Fourth.  Oh yes, configure correctly your WIFI...</td>\n",
       "    </tr>\n",
       "    <tr>\n",
       "      <th>1</th>\n",
       "      <td>problem-9368.txt</td>\n",
       "      <td>2</td>\n",
       "      <td>3</td>\n",
       "      <td>Fourth.  Oh yes, configure correctly your WIFI...</td>\n",
       "      <td>If it is a local media center that will not st...</td>\n",
       "    </tr>\n",
       "    <tr>\n",
       "      <th>2</th>\n",
       "      <td>problem-9368.txt</td>\n",
       "      <td>3</td>\n",
       "      <td>3</td>\n",
       "      <td>If it is a local media center that will not st...</td>\n",
       "      <td>BUT there's one very good point for SSD, even ...</td>\n",
       "    </tr>\n",
       "    <tr>\n",
       "      <th>3</th>\n",
       "      <td>problem-9368.txt</td>\n",
       "      <td>3</td>\n",
       "      <td>2</td>\n",
       "      <td>BUT there's one very good point for SSD, even ...</td>\n",
       "      <td>Third.  Always a 811.n will be faster than the...</td>\n",
       "    </tr>\n",
       "    <tr>\n",
       "      <th>4</th>\n",
       "      <td>problem-9368.txt</td>\n",
       "      <td>2</td>\n",
       "      <td>2</td>\n",
       "      <td>Third.  Always a 811.n will be faster than the...</td>\n",
       "      <td>Second.  An isolated media center (one WIFI wi...</td>\n",
       "    </tr>\n",
       "  </tbody>\n",
       "</table>\n",
       "</div>"
      ],
      "text/plain": [
       "            problem  author_1  author_2  \\\n",
       "0  problem-9368.txt         1         2   \n",
       "1  problem-9368.txt         2         3   \n",
       "2  problem-9368.txt         3         3   \n",
       "3  problem-9368.txt         3         2   \n",
       "4  problem-9368.txt         2         2   \n",
       "\n",
       "                                          para1_text  \\\n",
       "0  I just bought a Rasberry Pi and I want to turn...   \n",
       "1  Fourth.  Oh yes, configure correctly your WIFI...   \n",
       "2  If it is a local media center that will not st...   \n",
       "3  BUT there's one very good point for SSD, even ...   \n",
       "4  Third.  Always a 811.n will be faster than the...   \n",
       "\n",
       "                                          para2_text  \n",
       "0  Fourth.  Oh yes, configure correctly your WIFI...  \n",
       "1  If it is a local media center that will not st...  \n",
       "2  BUT there's one very good point for SSD, even ...  \n",
       "3  Third.  Always a 811.n will be faster than the...  \n",
       "4  Second.  An isolated media center (one WIFI wi...  "
      ]
     },
     "execution_count": 5,
     "metadata": {},
     "output_type": "execute_result"
    }
   ],
   "source": [
    "# Load and check\n",
    "\n",
    "training_data = pd.read_csv(config.processed_datasets['train_2021'])\n",
    "training_data.head()"
   ]
  },
  {
   "cell_type": "markdown",
   "metadata": {},
   "source": [
    "### Setup tokenization and embedding"
   ]
  },
  {
   "cell_type": "code",
   "execution_count": 6,
   "metadata": {},
   "outputs": [
    {
     "name": "stdout",
     "output_type": "stream",
     "text": [
      "Found 400000 word vectors.\n",
      "Loaded 400000 word vectors.\n",
      "(55904, 50)\n"
     ]
    }
   ],
   "source": [
    "# Settings\n",
    "\n",
    "MAX_WORDS = 10000\n",
    "MAX_LEN = 300\n",
    "EMBEDDING_DIM = 50\n",
    "\n",
    "# Tokenizer\n",
    "\n",
    "tokenizer = get_tokenizer(training_data, max_words=MAX_WORDS)\n",
    "\n",
    "# Embedding matrix\n",
    "\n",
    "embed_matrix = get_embed_matrix(tokenizer, embedding_dim=EMBEDDING_DIM)"
   ]
  },
  {
   "cell_type": "markdown",
   "metadata": {},
   "source": [
    "### Setup data generation + make a validation split"
   ]
  },
  {
   "cell_type": "code",
   "execution_count": 7,
   "metadata": {},
   "outputs": [],
   "source": [
    "# Setup data\n",
    "\n",
    "len_train = len(training_data)\n",
    "BATCH_SIZE = 64\n",
    "TRAINING_PROP = 0.8\n",
    "\n",
    "# \"Generate\" data: Nath (2021)\n",
    "\n",
    "training_generator = DataGeneratorSiamese(training_data.iloc[0:int(0.8*len_train)], tokenizer=tokenizer,max_len=MAX_LEN, batch_size=BATCH_SIZE)\n",
    "validation_generator = DataGeneratorSiamese(training_data.iloc[int(0.8*len_train):], tokenizer=tokenizer, max_len=MAX_LEN, batch_size=BATCH_SIZE)\n",
    "training_generator.on_epoch_end() # this is a hack for \"'DataGenerator' object has no attribute 'index'\". \n",
    "validation_generator.on_epoch_end() # this is a hack for \"'DataGenerator' object has no attribute 'index'\". "
   ]
  },
  {
   "cell_type": "markdown",
   "metadata": {},
   "source": [
    "### Define model (LSTM)\n",
    "\n",
    "- The author might have been inspired here: https://github.com/fionn-mac/Manhattan-LSTM"
   ]
  },
  {
   "cell_type": "code",
   "execution_count": 8,
   "metadata": {},
   "outputs": [],
   "source": [
    "# Define model architecture\n",
    "\n",
    "def create_model(max_len, tokenizer, embed_matrix, embedding_dim, optimizer):\n",
    "    input_1 = Input(shape=(max_len,))#(train_p1_seq.shape[1],)\n",
    "    input_2 = Input(shape=(max_len,))\n",
    "\n",
    "    lstm_layer = Bidirectional(LSTM(50, dropout=0.2))\n",
    "    embeddings_initializer = Constant(embed_matrix)\n",
    "    emb =  Embedding(len(tokenizer.word_index)+1,\n",
    "                     embedding_dim,\n",
    "                     embeddings_initializer=embeddings_initializer,\n",
    "                     input_length=max_len,\n",
    "                     weights=[embed_matrix],\n",
    "                     trainable=True)\n",
    "\n",
    "    e1 = emb(input_1)\n",
    "    x1 = lstm_layer(e1)\n",
    "\n",
    "    e2 = emb(input_2)\n",
    "    x2 = lstm_layer(e2)\n",
    "\n",
    "    mhd = lambda x: exponent_neg_cosine_distance(x[0], x[1]) \n",
    "    merged = Lambda(function=mhd, output_shape=lambda x: x[0], name='cosine_distance')([x1, x2])\n",
    "    preds = Dense(1, activation='sigmoid')(merged)\n",
    "    model = Model(inputs=[input_1, input_2], outputs=preds)\n",
    "    model.compile(loss = \"binary_crossentropy\",  metrics=['acc'], optimizer = optimizer)\n",
    "\n",
    "    return model"
   ]
  },
  {
   "cell_type": "markdown",
   "metadata": {},
   "source": [
    "### Model initialization and summary"
   ]
  },
  {
   "cell_type": "code",
   "execution_count": 9,
   "metadata": {},
   "outputs": [],
   "source": [
    "# Optimizer set\n",
    "\n",
    "opt = Adam(clipnorm=1.5) # Nath (2021)\n"
   ]
  },
  {
   "cell_type": "code",
   "execution_count": 10,
   "metadata": {},
   "outputs": [],
   "source": [
    "model = create_model(max_len=MAX_LEN,\n",
    "                     tokenizer=tokenizer, \n",
    "                     embed_matrix=embed_matrix,\n",
    "                     embedding_dim=EMBEDDING_DIM,\n",
    "                     optimizer=opt)"
   ]
  },
  {
   "cell_type": "code",
   "execution_count": 11,
   "metadata": {},
   "outputs": [
    {
     "name": "stdout",
     "output_type": "stream",
     "text": [
      "Model: \"model\"\n",
      "__________________________________________________________________________________________________\n",
      " Layer (type)                   Output Shape         Param #     Connected to                     \n",
      "==================================================================================================\n",
      " input_1 (InputLayer)           [(None, 300)]        0           []                               \n",
      "                                                                                                  \n",
      " input_2 (InputLayer)           [(None, 300)]        0           []                               \n",
      "                                                                                                  \n",
      " embedding (Embedding)          (None, 300, 50)      2795200     ['input_1[0][0]',                \n",
      "                                                                  'input_2[0][0]']                \n",
      "                                                                                                  \n",
      " bidirectional (Bidirectional)  (None, 100)          40400       ['embedding[0][0]',              \n",
      "                                                                  'embedding[1][0]']              \n",
      "                                                                                                  \n",
      " cosine_distance (Lambda)       (None, 1)            0           ['bidirectional[0][0]',          \n",
      "                                                                  'bidirectional[1][0]']          \n",
      "                                                                                                  \n",
      " dense (Dense)                  (None, 1)            2           ['cosine_distance[0][0]']        \n",
      "                                                                                                  \n",
      "==================================================================================================\n",
      "Total params: 2,835,602\n",
      "Trainable params: 2,835,602\n",
      "Non-trainable params: 0\n",
      "__________________________________________________________________________________________________\n"
     ]
    }
   ],
   "source": [
    "model.summary()"
   ]
  },
  {
   "cell_type": "code",
   "execution_count": 18,
   "metadata": {},
   "outputs": [
    {
     "data": {
      "image/png": "[encoded data removed]",
      "text/plain": [
       "<IPython.core.display.Image object>"
      ]
     },
     "execution_count": 18,
     "metadata": {},
     "output_type": "execute_result"
    }
   ],
   "source": [
    "# Graphical plot of the network\n",
    "\n",
    "plot_model(model, to_file='plots/model_lstm.png', show_shapes=True, show_layer_names=True)"
   ]
  },
  {
   "cell_type": "markdown",
   "metadata": {},
   "source": [
    "### Checkpoints"
   ]
  },
  {
   "cell_type": "code",
   "execution_count": 12,
   "metadata": {},
   "outputs": [],
   "source": [
    "# Checkpoints\n",
    "\n",
    "checkpoint_path = config.checkpoints.get(\"bilstm_2021\")\n",
    "checkpoint_dir = os.path.dirname(checkpoint_path)\n",
    "\n",
    "cp_callback = tf.keras.callbacks.ModelCheckpoint(\n",
    "    filepath=checkpoint_path, \n",
    "    verbose=1, \n",
    "    save_weights_only=True,\n",
    "    save_freq=5*BATCH_SIZE)\n",
    "\n",
    "model.save_weights(checkpoint_path.format(epoch=0))\n",
    "\n",
    "stop_callback = tf.keras.callbacks.EarlyStopping(monitor='val_loss', patience=3)"
   ]
  },
  {
   "cell_type": "code",
   "execution_count": 13,
   "metadata": {},
   "outputs": [],
   "source": [
    "# Fit\n",
    "# We use shuffle = True because we don't know the seed of Nath (2021)\n",
    "\n",
    "EPOCHS = 100 # Nath (2021): 60 epochs\n",
    "STEPS_PER_EPOCH = 100 # Nath (2021): 100 epochs\n",
    "SHUFFLE = True # Nath (2021): False"
   ]
  },
  {
   "cell_type": "code",
   "execution_count": 150,
   "metadata": {},
   "outputs": [
    {
     "data": {
      "text/plain": [
       "<AxesSubplot:>"
      ]
     },
     "execution_count": 150,
     "metadata": {},
     "output_type": "execute_result"
    },
    {
     "data": {
      "image/png": "[encoded data removed]",
      "text/plain": [
       "<Figure size 432x288 with 1 Axes>"
      ]
     },
     "metadata": {
      "needs_background": "light"
     },
     "output_type": "display_data"
    },
    {
     "data": {
      "image/png": "[encoded data removed]",
      "text/plain": [
       "<Figure size 432x288 with 1 Axes>"
      ]
     },
     "metadata": {
      "needs_background": "light"
     },
     "output_type": "display_data"
    }
   ],
   "source": [
    "# Plots\n",
    "\n",
    "acc = pd.DataFrame({\"training acc\":history.history['acc'],\n",
    "                            \"validation acc\": history.history['val_acc']})\n",
    "acc.plot()\n",
    "\n",
    "loss = pd.DataFrame({\"training loss\":history.history['loss'],\n",
    "                            \"validation loss\": history.history['val_loss']})\n",
    "loss.plot()"
   ]
  },
  {
   "cell_type": "code",
   "execution_count": 151,
   "metadata": {},
   "outputs": [],
   "source": [
    "# Save history to csv\n",
    "\n",
    "history_path = config.history['bilstm_2021']\n",
    "pd.DataFrame.from_dict(history.history).to_csv(history_path,index=False)"
   ]
  },
  {
   "cell_type": "markdown",
   "metadata": {},
   "source": [
    "### \"Test\" error with the real validation set"
   ]
  },
  {
   "cell_type": "code",
   "execution_count": 15,
   "metadata": {},
   "outputs": [
    {
     "name": "stdout",
     "output_type": "stream",
     "text": [
      "220/220 [==============================] - 7s 30ms/step - loss: 0.6431 - acc: 0.6345\n"
     ]
    },
    {
     "data": {
      "text/plain": [
       "(0.6431089043617249, 0.6345170736312866)"
      ]
     },
     "execution_count": 15,
     "metadata": {},
     "output_type": "execute_result"
    }
   ],
   "source": [
    "testing_data = pd.read_csv(config.processed_datasets.get('valid_2021'))\n",
    "testing_generator = DataGeneratorSiamese(testing_data, tokenizer=tokenizer, max_len=MAX_LEN, batch_size=BATCH_SIZE)\n",
    "testing_generator.on_epoch_end()\n",
    "\n",
    "test_loss, test_acc = model.evaluate(testing_generator)\n",
    "test_loss, test_acc"
   ]
  }
 ],
 "metadata": {
  "environment": {
   "kernel": "python3",
   "name": "tf2-gpu.2-8.m91",
   "type": "gcloud",
   "uri": "gcr.io/deeplearning-platform-release/tf2-gpu.2-8:m91"
  },
  "interpreter": {
   "hash": "90da37984af7e3fbe8899102077306def4126a313e5f15e1e03267860084f836"
  },
  "kernelspec": {
   "display_name": "Python 3",
   "language": "python",
   "name": "python3"
  },
  "language_info": {
   "codemirror_mode": {
    "name": "ipython",
    "version": 3
   },
   "file_extension": ".py",
   "mimetype": "text/x-python",
   "name": "python",
   "nbconvert_exporter": "python",
   "pygments_lexer": "ipython3",
   "version": "3.8.8"
  }
 },
 "nbformat": 4,
 "nbformat_minor": 4
}
