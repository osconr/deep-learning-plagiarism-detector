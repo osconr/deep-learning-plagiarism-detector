{
 "cells": [
  {
   "cell_type": "markdown",
   "id": "e145b48c",
   "metadata": {},
   "source": [
    "# Modelling notebook - ModelD"
   ]
  },
  {
   "cell_type": "markdown",
   "id": "8d0ef687",
   "metadata": {},
   "source": [
    "This notebook contains two main sections:\n",
    "\n",
    "1. Data Generation - We used the DataGeneratorSiamese() class for Models A,B and C but, as the data needs to be structured differently for Model D, as it uses triplet loss, we have had to recode and adjust some of the steps.\n",
    "2. Training model - Defines Model D Embedding Model and subsequent classifier model.\n",
    "3. Evaluating model on 'Test' data - Evaluates Model D classifier model on test data."
   ]
  },
  {
   "cell_type": "code",
   "execution_count": 46,
   "id": "63631b5c-8cba-43f8-84fb-cc45be1a7b18",
   "metadata": {
    "execution": {
     "iopub.execute_input": "2022-04-27T14:37:57.638678Z",
     "iopub.status.busy": "2022-04-27T14:37:57.638395Z",
     "iopub.status.idle": "2022-04-27T14:37:57.641762Z",
     "shell.execute_reply": "2022-04-27T14:37:57.641116Z",
     "shell.execute_reply.started": "2022-04-27T14:37:57.638653Z"
    },
    "tags": []
   },
   "outputs": [],
   "source": [
    "#pip install -U numpy==1.18.5"
   ]
  },
  {
   "cell_type": "code",
   "execution_count": 3,
   "id": "efcad729-96d0-458a-bc73-b1a249697099",
   "metadata": {
    "execution": {
     "iopub.execute_input": "2022-04-27T14:25:20.712325Z",
     "iopub.status.busy": "2022-04-27T14:25:20.712043Z",
     "iopub.status.idle": "2022-04-27T14:25:22.461719Z",
     "shell.execute_reply": "2022-04-27T14:25:22.461200Z",
     "shell.execute_reply.started": "2022-04-27T14:25:20.712301Z"
    },
    "tags": []
   },
   "outputs": [
    {
     "name": "stderr",
     "output_type": "stream",
     "text": [
      "2022-04-27 14:25:21.311971: I tensorflow/stream_executor/platform/default/dso_loader.cc:49] Successfully opened dynamic library libcudart.so.10.1\n"
     ]
    }
   ],
   "source": [
    "# Custom functions and setup\n",
    "\n",
    "from functions_auto import *\n",
    "import config\n",
    "\n",
    "# Other packages \n",
    "\n",
    "import pandas as pd\n",
    "import numpy as np\n",
    "import random\n",
    "from itertools import combinations\n",
    "import os \n",
    "import config\n",
    "\n",
    "# Tensorflow\n",
    "\n",
    "import tensorflow as tf\n",
    "from tensorflow.keras.preprocessing.text import Tokenizer\n",
    "from tensorflow.keras.preprocessing.sequence import pad_sequences\n",
    "from keras import backend as K\n",
    "\n",
    "from tensorflow.keras.layers import Input\n",
    "from tensorflow.keras.layers import Dropout, Bidirectional\n",
    "from tensorflow.keras.layers import Flatten, Dense, Embedding, LSTM, GRU\n",
    "from tensorflow.keras.layers import BatchNormalization, MaxPooling2D, Concatenate, Lambda, concatenate\n",
    "from tensorflow.keras.models import Model, Sequential\n",
    "from tensorflow.keras.regularizers import l2\n",
    "from tensorflow.keras.optimizers import Adam, Adadelta\n",
    "from tensorflow.keras.initializers import Constant\n",
    "from tensorflow.keras.utils import Sequence, plot_model"
   ]
  },
  {
   "cell_type": "code",
   "execution_count": 4,
   "id": "161bbe5b-6349-4927-b2ac-c3952f52c1ad",
   "metadata": {
    "execution": {
     "iopub.execute_input": "2022-04-27T14:25:24.268655Z",
     "iopub.status.busy": "2022-04-27T14:25:24.268370Z",
     "iopub.status.idle": "2022-04-27T14:25:24.272032Z",
     "shell.execute_reply": "2022-04-27T14:25:24.271356Z",
     "shell.execute_reply.started": "2022-04-27T14:25:24.268633Z"
    },
    "tags": []
   },
   "outputs": [],
   "source": [
    "# Setting seed\n",
    "tf.random.set_seed(8)\n",
    "np.random.seed(8)"
   ]
  },
  {
   "cell_type": "code",
   "execution_count": 2,
   "id": "7e40d945",
   "metadata": {},
   "outputs": [],
   "source": [
    "#### Download GloveEmbeddings\n",
    "\n",
    "# - The following code chunk can be used to download the word embeddings, and extracts the correct file from the zip\n",
    "# - Is included in gitignore so will be kept on your computer\n",
    "\n",
    "#import urllib.request\n",
    "#import shutil\n",
    "#import zipfile\n",
    "#urllib.request.urlretrieve('http://nlp.stanford.edu/data/glove.6B.zip', 'glove.6B.zip')\n",
    "#shutil.move(config.base_dir+'glove.6B.zip', config.base_dir+'embeddings/glove.6B.zip')\n",
    "#with zipfile.ZipFile(config.base_dir+'embeddings/glove.6B.zip', 'r') as zfile:\n",
    "#    unpacked = open(config.base_dir+'embeddings/glove.6B.50d.txt', 'w')\n",
    "#    unpacked.write(zfile.read('glove.6B.50d.txt').decode('utf-8'))\n",
    "#    unpacked.close()"
   ]
  },
  {
   "cell_type": "markdown",
   "id": "79e3456f",
   "metadata": {},
   "source": [
    "## 1. Data Generation"
   ]
  },
  {
   "cell_type": "code",
   "execution_count": 5,
   "id": "8d3a2e5d-bdca-4797-b455-19015a0bc3db",
   "metadata": {
    "execution": {
     "iopub.execute_input": "2022-04-27T14:25:27.575731Z",
     "iopub.status.busy": "2022-04-27T14:25:27.575456Z",
     "iopub.status.idle": "2022-04-27T14:25:27.852969Z",
     "shell.execute_reply": "2022-04-27T14:25:27.852441Z",
     "shell.execute_reply.started": "2022-04-27T14:25:27.575708Z"
    },
    "tags": []
   },
   "outputs": [],
   "source": [
    "def get_processed_dataset(datasetname):\n",
    "    return pd.read_csv(config.processed_datasets[datasetname])\n",
    "\n",
    "df = get_processed_dataset(\"train_2022_task2\")"
   ]
  },
  {
   "cell_type": "code",
   "execution_count": 6,
   "id": "c86e8d49-e160-4801-b082-551ee853646a",
   "metadata": {
    "execution": {
     "iopub.execute_input": "2022-04-27T14:25:29.345550Z",
     "iopub.status.busy": "2022-04-27T14:25:29.345282Z",
     "iopub.status.idle": "2022-04-27T14:25:50.201872Z",
     "shell.execute_reply": "2022-04-27T14:25:50.201325Z",
     "shell.execute_reply.started": "2022-04-27T14:25:29.345525Z"
    },
    "tags": []
   },
   "outputs": [],
   "source": [
    "#Code from: https://github.com/KinWaiCheuk/Triplet-net-keras\n",
    "\n",
    "testsize = 0.2\n",
    "trainsize = 1-testsize\n",
    "\n",
    "triplet_train_pairs = []\n",
    "triplet_test_pairs = []\n",
    "\n",
    "#Loop sorts data into triplet pairs based on paragraphs in the same document (or 'problem')\n",
    "for text in set(df['problem']):\n",
    "    \n",
    "    #Subset data to only be dealing with same document\n",
    "    df1 = df[df['problem'] == text]\n",
    "    \n",
    "    #Create lists of row indices\n",
    "    same_class_idx = np.where((df1['author_1']==df1['author_2']))[0]\n",
    "    diff_class_idx = np.where((df1['author_1']!=df1['author_2']))[0]\n",
    "    #Determine k number of samples chosen\n",
    "    smallest_lst = same_class_idx if len(same_class_idx) < len(diff_class_idx) else diff_class_idx\n",
    "    k = random.randint(0,len(smallest_lst))\n",
    "    \n",
    "    if k > 0 and len(same_class_idx) >2:\n",
    "        A_P_pairs = random.sample(list(combinations(same_class_idx,2)), k = k)\n",
    "        Neg_idx = random.sample(list(diff_class_idx), k = k)\n",
    "\n",
    "        A_P_len = len(A_P_pairs)\n",
    "        Neg_len = len(Neg_idx)\n",
    "\n",
    "        for ap in A_P_pairs[:int(A_P_len*trainsize)]:\n",
    "            Anchor = df1['para1_text'].values[ap[0]]\n",
    "            Positive = df1['para2_text'].values[ap[0]]\n",
    "            for n in Neg_idx:\n",
    "                Negative = df1['para2_text'].values[n]\n",
    "                #the x array for a random negative index\n",
    "                triplet_train_pairs.append([Anchor,Positive,Negative])   \n",
    "                \n",
    "        for ap in A_P_pairs[int(A_P_len*trainsize):]:\n",
    "            Anchor = df1['para1_text'].values[ap[0]]\n",
    "            Positive = df1['para2_text'].values[ap[0]]\n",
    "            for n in Neg_idx:\n",
    "                Negative = df1['para2_text'].values[n]\n",
    "                triplet_test_pairs.append([Anchor,Positive,Negative])    \n",
    "\n",
    "X_train = np.array(triplet_train_pairs) \n",
    "X_test = np.array(triplet_test_pairs)"
   ]
  },
  {
   "cell_type": "code",
   "execution_count": 7,
   "id": "4fa5363b-d644-4c58-ba84-1201e97152c0",
   "metadata": {
    "execution": {
     "iopub.execute_input": "2022-04-27T14:25:50.204237Z",
     "iopub.status.busy": "2022-04-27T14:25:50.203912Z",
     "iopub.status.idle": "2022-04-27T14:25:58.706405Z",
     "shell.execute_reply": "2022-04-27T14:25:58.705852Z",
     "shell.execute_reply.started": "2022-04-27T14:25:50.204202Z"
    },
    "tags": []
   },
   "outputs": [
    {
     "name": "stdout",
     "output_type": "stream",
     "text": [
      "Found 400000 word vectors.\n",
      "Loaded 400000 word vectors.\n",
      "(10001, 50)\n"
     ]
    }
   ],
   "source": [
    "#Create tokenizer and embedding matrix\n",
    "tokenizer = get_tokenizer(df, max_words=10000)\n",
    "embed_matrix = get_embed_matrix(tokenizer, embedding_dim=50)"
   ]
  },
  {
   "cell_type": "code",
   "execution_count": 9,
   "id": "f7ddbf6f-1c29-46f1-8e92-e11517db2304",
   "metadata": {
    "execution": {
     "iopub.execute_input": "2022-04-27T14:26:25.298342Z",
     "iopub.status.busy": "2022-04-27T14:26:25.298073Z",
     "iopub.status.idle": "2022-04-27T14:26:26.042784Z",
     "shell.execute_reply": "2022-04-27T14:26:26.042199Z",
     "shell.execute_reply.started": "2022-04-27T14:26:25.298317Z"
    },
    "tags": []
   },
   "outputs": [],
   "source": [
    "max_len = 300\n",
    "\n",
    "#Creating training data\n",
    "Anchor = tokenizer.texts_to_sequences(X_train[:,0])\n",
    "Anchor = pad_sequences(Anchor, maxlen=max_len, padding='post')\n",
    "\n",
    "Positive = tokenizer.texts_to_sequences(X_train[:,1])\n",
    "Positive = pad_sequences(Positive, maxlen=max_len, padding='post')\n",
    "\n",
    "Negative = tokenizer.texts_to_sequences(X_train[:,2])\n",
    "Negative = pad_sequences(Negative, maxlen=max_len, padding='post')\n",
    "\n",
    "#Creating validation data\n",
    "Anchor_val = tokenizer.texts_to_sequences(X_test[:,0])\n",
    "Anchor_val = pad_sequences(Anchor_val, maxlen=max_len, padding='post')\n",
    "\n",
    "Positive_val = tokenizer.texts_to_sequences(X_test[:,1])\n",
    "Positive_val = pad_sequences(Positive_val, maxlen=max_len, padding='post')\n",
    "\n",
    "Negative_val = tokenizer.texts_to_sequences(X_test[:,2])\n",
    "Negative_val = pad_sequences(Negative_val, maxlen=max_len, padding='post')\n",
    "\n",
    "# need to feed a Y into model.fit (and model.evaluate)\n",
    "Y_dummy = np.empty((Anchor.shape[0],300))\n",
    "Y_dummy2 = np.empty((Anchor_val.shape[0],1))\n"
   ]
  },
  {
   "cell_type": "code",
   "execution_count": 10,
   "id": "522b8d08-30ef-4b6b-b5f6-fa1d3c14cf73",
   "metadata": {
    "execution": {
     "iopub.execute_input": "2022-04-27T14:26:26.654206Z",
     "iopub.status.busy": "2022-04-27T14:26:26.653921Z",
     "iopub.status.idle": "2022-04-27T14:26:26.659656Z",
     "shell.execute_reply": "2022-04-27T14:26:26.658983Z",
     "shell.execute_reply.started": "2022-04-27T14:26:26.654183Z"
    },
    "tags": []
   },
   "outputs": [],
   "source": [
    "# Defining accuracy because we want to \n",
    "#Code from: https://github.com/noelcodella/tripletloss-keras-tensorflow/blob/master/tripletloss.py\n",
    "def accuracy(y_true, y_pred):\n",
    "    '''\n",
    "    loss[i] = 1 if y_pred[i, 0] < y_pred[i, 1] else 0\n",
    "    '''\n",
    "    return K.mean(y_pred[:,0] < y_pred[:,1])\n",
    "\n",
    "def triplet_loss(y_true, y_pred):\n",
    "    margin = K.constant(1)\n",
    "    return K.mean(K.maximum(K.constant(0), K.square(y_pred[:,0]) - 0.5*(K.square(y_pred[:,1])+K.square(y_pred[:,2])) + margin))\n",
    "\n",
    "def euclidean_distance(vects):\n",
    "    x, y = vects\n",
    "    return K.sqrt(K.maximum(K.sum(K.square(x - y), axis=1, keepdims=True), K.epsilon()))\n"
   ]
  },
  {
   "cell_type": "markdown",
   "id": "c09cc6bb",
   "metadata": {},
   "source": [
    "## 2. Training model"
   ]
  },
  {
   "cell_type": "markdown",
   "id": "4bc20c9f",
   "metadata": {},
   "source": [
    "### *Training embedding network*\n",
    "\n",
    "This section creates and trains a network based on triplet loss."
   ]
  },
  {
   "cell_type": "code",
   "execution_count": 29,
   "id": "4f7894b0-1e3b-4d82-8ccf-094daf527a84",
   "metadata": {
    "execution": {
     "iopub.execute_input": "2022-04-27T14:31:39.924548Z",
     "iopub.status.busy": "2022-04-27T14:31:39.924277Z",
     "iopub.status.idle": "2022-04-27T14:31:39.929450Z",
     "shell.execute_reply": "2022-04-27T14:31:39.928817Z",
     "shell.execute_reply.started": "2022-04-27T14:31:39.924523Z"
    },
    "tags": []
   },
   "outputs": [],
   "source": [
    "def create_base_network(embedding_dim, max_len, embed_matrix):\n",
    "    \"\"\"\n",
    "    Base network to be shared.\n",
    "    \"\"\"\n",
    "    model = Sequential()\n",
    "    embeddings_initializer = Constant(embed_matrix)\n",
    "    model.add(Embedding(len(tokenizer.word_index)+1,\n",
    "                     embedding_dim,\n",
    "                     embeddings_initializer=embeddings_initializer,\n",
    "                     input_length=max_len,\n",
    "                     weights=[embed_matrix],\n",
    "                     trainable=True))\n",
    "    model.add(Bidirectional(LSTM(100, dropout=0.2)))\n",
    "    \n",
    "    return model"
   ]
  },
  {
   "cell_type": "code",
   "execution_count": 30,
   "id": "66b5c7a8-9b53-4970-8705-8a4745c3aae8",
   "metadata": {
    "execution": {
     "iopub.execute_input": "2022-04-27T14:31:40.261400Z",
     "iopub.status.busy": "2022-04-27T14:31:40.261122Z",
     "iopub.status.idle": "2022-04-27T14:31:41.566132Z",
     "shell.execute_reply": "2022-04-27T14:31:41.565494Z",
     "shell.execute_reply.started": "2022-04-27T14:31:40.261378Z"
    },
    "tags": []
   },
   "outputs": [
    {
     "name": "stdout",
     "output_type": "stream",
     "text": [
      "Model: \"triple_siamese\"\n",
      "__________________________________________________________________________________________________\n",
      "Layer (type)                    Output Shape         Param #     Connected to                     \n",
      "==================================================================================================\n",
      "anchor_input (InputLayer)       [(None, 300)]        0                                            \n",
      "__________________________________________________________________________________________________\n",
      "positive_input (InputLayer)     [(None, 300)]        0                                            \n",
      "__________________________________________________________________________________________________\n",
      "negative_input (InputLayer)     [(None, 300)]        0                                            \n",
      "__________________________________________________________________________________________________\n",
      "sequential_1 (Sequential)       (None, 200)          620850      anchor_input[0][0]               \n",
      "                                                                 positive_input[0][0]             \n",
      "                                                                 negative_input[0][0]             \n",
      "__________________________________________________________________________________________________\n",
      "pos_dist (Lambda)               (None, 1)            0           sequential_1[0][0]               \n",
      "                                                                 sequential_1[1][0]               \n",
      "__________________________________________________________________________________________________\n",
      "neg_dist (Lambda)               (None, 1)            0           sequential_1[0][0]               \n",
      "                                                                 sequential_1[2][0]               \n",
      "__________________________________________________________________________________________________\n",
      "ter_dist (Lambda)               (None, 1)            0           sequential_1[1][0]               \n",
      "                                                                 sequential_1[2][0]               \n",
      "__________________________________________________________________________________________________\n",
      "stacked_dists (Lambda)          (None, 3, 1)         0           pos_dist[0][0]                   \n",
      "                                                                 neg_dist[0][0]                   \n",
      "                                                                 ter_dist[0][0]                   \n",
      "==================================================================================================\n",
      "Total params: 620,850\n",
      "Trainable params: 620,850\n",
      "Non-trainable params: 0\n",
      "__________________________________________________________________________________________________\n"
     ]
    }
   ],
   "source": [
    "# Initialises model and shows summary of model\n",
    "#Code from: https://github.com/noelcodella/tripletloss-keras-tensorflow/blob/master/tripletloss.py\n",
    "adam_optim = Adam(clipnorm=1.5)\n",
    "\n",
    "anchor_input = Input((max_len, ), name='anchor_input')\n",
    "positive_input = Input((max_len, ), name='positive_input')\n",
    "negative_input = Input((max_len, ), name='negative_input')\n",
    "\n",
    "Shared_DNN = create_base_network(embedding_dim = 50, max_len=300, embed_matrix=embed_matrix)\n",
    "\n",
    "encoded_anchor = Shared_DNN(anchor_input)\n",
    "encoded_positive = Shared_DNN(positive_input)\n",
    "encoded_negative = Shared_DNN(negative_input)\n",
    "\n",
    "positive_dist = Lambda(euclidean_distance, name='pos_dist')([encoded_anchor, encoded_positive])\n",
    "negative_dist = Lambda(euclidean_distance, name='neg_dist')([encoded_anchor, encoded_negative])\n",
    "tertiary_dist = Lambda(euclidean_distance, name='ter_dist')([encoded_positive, encoded_negative])\n",
    "\n",
    "# This lambda layer simply stacks outputs so both distances are available to the objective\n",
    "stacked_dists = Lambda(lambda vects: K.stack(vects, axis=1), name='stacked_dists')([positive_dist, negative_dist, tertiary_dist])\n",
    "\n",
    "model = Model([anchor_input, positive_input, negative_input], stacked_dists, name='triple_siamese')\n",
    "\n",
    "model.compile(loss=triplet_loss, optimizer=adam_optim, metrics=[accuracy])\n",
    "\n",
    "model.summary()"
   ]
  },
  {
   "cell_type": "code",
   "execution_count": 31,
   "id": "52a67dd0-b8b6-4e4b-8f1a-c190c05f448c",
   "metadata": {
    "execution": {
     "iopub.execute_input": "2022-04-27T14:31:42.016586Z",
     "iopub.status.busy": "2022-04-27T14:31:42.016312Z",
     "iopub.status.idle": "2022-04-27T14:31:42.035718Z",
     "shell.execute_reply": "2022-04-27T14:31:42.035204Z",
     "shell.execute_reply.started": "2022-04-27T14:31:42.016563Z"
    },
    "tags": []
   },
   "outputs": [],
   "source": [
    "#Creating checkpoints\n",
    "checkpoint_path = \"training_2/cp-{epoch:04d}.ckpt\"\n",
    "checkpoint_dir = os.path.dirname(checkpoint_path)\n",
    "\n",
    "cp_callback = tf.keras.callbacks.ModelCheckpoint(\n",
    "    filepath=checkpoint_path, \n",
    "    verbose=1, \n",
    "    save_weights_only=True,\n",
    "    save_freq=5*1000, # Approx every 5 epoch\n",
    "    #save_freq=5*BATCH_SIZE\n",
    "    )\n",
    "\n",
    "model.save_weights(checkpoint_path.format(epoch=0))\n",
    "stop_callback = tf.keras.callbacks.EarlyStopping(monitor='val_loss', patience=3)"
   ]
  },
  {
   "cell_type": "code",
   "execution_count": 32,
   "id": "3bed1a15-8a1b-43f1-880b-0cfab62c3035",
   "metadata": {
    "execution": {
     "iopub.execute_input": "2022-04-27T14:31:43.108718Z",
     "iopub.status.busy": "2022-04-27T14:31:43.108440Z",
     "iopub.status.idle": "2022-04-27T14:33:48.758285Z",
     "shell.execute_reply": "2022-04-27T14:33:48.757769Z",
     "shell.execute_reply.started": "2022-04-27T14:31:43.108695Z"
    },
    "tags": []
   },
   "outputs": [
    {
     "name": "stdout",
     "output_type": "stream",
     "text": [
      "Epoch 1/100\n",
      "78/78 [==============================] - 15s 119ms/step - loss: 0.9853 - accuracy: 0.5091 - val_loss: 0.9591 - val_accuracy: 0.5181\n",
      "Epoch 2/100\n",
      "78/78 [==============================] - 8s 101ms/step - loss: 0.8121 - accuracy: 0.5948 - val_loss: 0.8977 - val_accuracy: 0.5708\n",
      "Epoch 3/100\n",
      "78/78 [==============================] - 8s 101ms/step - loss: 0.6714 - accuracy: 0.6644 - val_loss: 0.8625 - val_accuracy: 0.5980\n",
      "Epoch 4/100\n",
      "78/78 [==============================] - 8s 101ms/step - loss: 0.5389 - accuracy: 0.7232 - val_loss: 0.8590 - val_accuracy: 0.6078\n",
      "Epoch 5/100\n",
      "78/78 [==============================] - 8s 101ms/step - loss: 0.4657 - accuracy: 0.7690 - val_loss: 0.8430 - val_accuracy: 0.6264\n",
      "Epoch 6/100\n",
      "78/78 [==============================] - 8s 101ms/step - loss: 0.3892 - accuracy: 0.7978 - val_loss: 0.8295 - val_accuracy: 0.6468\n",
      "Epoch 7/100\n",
      "78/78 [==============================] - 8s 101ms/step - loss: 0.3190 - accuracy: 0.8218 - val_loss: 0.8379 - val_accuracy: 0.6418\n",
      "Epoch 8/100\n",
      "78/78 [==============================] - 8s 101ms/step - loss: 0.3152 - accuracy: 0.8190 - val_loss: 0.7953 - val_accuracy: 0.6635\n",
      "Epoch 9/100\n",
      "78/78 [==============================] - 8s 101ms/step - loss: 0.2836 - accuracy: 0.8368 - val_loss: 0.8270 - val_accuracy: 0.6625\n",
      "Epoch 10/100\n",
      "78/78 [==============================] - 8s 102ms/step - loss: 0.2435 - accuracy: 0.8581 - val_loss: 0.8061 - val_accuracy: 0.6611\n",
      "Epoch 11/100\n",
      "78/78 [==============================] - 8s 101ms/step - loss: 0.2275 - accuracy: 0.8621 - val_loss: 0.7787 - val_accuracy: 0.6721\n",
      "Epoch 12/100\n",
      "78/78 [==============================] - 8s 101ms/step - loss: 0.2308 - accuracy: 0.8560 - val_loss: 0.7787 - val_accuracy: 0.6727\n",
      "Epoch 13/100\n",
      "78/78 [==============================] - 8s 101ms/step - loss: 0.2232 - accuracy: 0.8676 - val_loss: 0.8336 - val_accuracy: 0.6659\n",
      "Epoch 14/100\n",
      "78/78 [==============================] - 8s 101ms/step - loss: 0.1854 - accuracy: 0.8830 - val_loss: 0.8077 - val_accuracy: 0.6728\n",
      "Epoch 15/100\n",
      "78/78 [==============================] - 8s 101ms/step - loss: 0.1956 - accuracy: 0.8810 - val_loss: 0.7994 - val_accuracy: 0.6765\n"
     ]
    }
   ],
   "source": [
    "#Fitting model\n",
    "history = model.fit([Anchor,Positive,Negative],y=Y_dummy,validation_data=([Anchor_val,Positive_val,Negative_val],Y_dummy2), batch_size=64, epochs=100, callbacks=[cp_callback,stop_callback])"
   ]
  },
  {
   "cell_type": "code",
   "execution_count": 45,
   "id": "1b8c7259-728a-446f-967a-4cd6ab193ea4",
   "metadata": {
    "execution": {
     "iopub.execute_input": "2022-04-27T14:37:50.650634Z",
     "iopub.status.busy": "2022-04-27T14:37:50.650337Z",
     "iopub.status.idle": "2022-04-27T14:37:50.655093Z",
     "shell.execute_reply": "2022-04-27T14:37:50.654545Z",
     "shell.execute_reply.started": "2022-04-27T14:37:50.650599Z"
    },
    "tags": []
   },
   "outputs": [],
   "source": [
    "#model.save('modelD_latest')"
   ]
  },
  {
   "cell_type": "code",
   "execution_count": 34,
   "id": "b2e0a6a5-e7c7-4bd3-8695-969b16143d92",
   "metadata": {
    "execution": {
     "iopub.execute_input": "2022-04-27T14:34:22.892321Z",
     "iopub.status.busy": "2022-04-27T14:34:22.892056Z",
     "iopub.status.idle": "2022-04-27T14:34:23.150347Z",
     "shell.execute_reply": "2022-04-27T14:34:23.149820Z",
     "shell.execute_reply.started": "2022-04-27T14:34:22.892298Z"
    },
    "tags": []
   },
   "outputs": [
    {
     "data": {
      "text/plain": [
       "<AxesSubplot:>"
      ]
     },
     "execution_count": 34,
     "metadata": {},
     "output_type": "execute_result"
    },
    {
     "data": {
      "image/png": "[encoded data removed]",
      "text/plain": [
       "<Figure size 432x288 with 1 Axes>"
      ]
     },
     "metadata": {
      "needs_background": "light"
     },
     "output_type": "display_data"
    },
    {
     "data": {
      "image/png": "[encoded data removed]",
      "text/plain": [
       "<Figure size 432x288 with 1 Axes>"
      ]
     },
     "metadata": {
      "needs_background": "light"
     },
     "output_type": "display_data"
    }
   ],
   "source": [
    "acc = pd.DataFrame({\"training acc\":history.history['accuracy'],\n",
    "                            \"validation acc\": history.history['val_accuracy']})\n",
    "acc.plot()\n",
    "\n",
    "loss = pd.DataFrame({\"training loss\":history.history['loss'],\n",
    "                            \"validation loss\": history.history['val_loss']})\n",
    "loss.plot()"
   ]
  },
  {
   "cell_type": "markdown",
   "id": "d29bbdaf",
   "metadata": {},
   "source": [
    "### *Training embedding network*\n",
    "\n",
    "Given that to evaluate our testing data we need a model which takes pairs of paragraphs rather than triplets of paragraphs, in the code below we train a classifier model based on the generated distances between the positive/anchor and positive/negative pairs."
   ]
  },
  {
   "cell_type": "code",
   "execution_count": 36,
   "id": "45deb887-36d5-47c8-b4a4-ee5757fd4b2d",
   "metadata": {
    "execution": {
     "iopub.execute_input": "2022-04-27T14:35:03.995437Z",
     "iopub.status.busy": "2022-04-27T14:35:03.995172Z",
     "iopub.status.idle": "2022-04-27T14:35:13.259257Z",
     "shell.execute_reply": "2022-04-27T14:35:13.258700Z",
     "shell.execute_reply.started": "2022-04-27T14:35:03.995414Z"
    },
    "tags": []
   },
   "outputs": [],
   "source": [
    "#Runs the original embed matrices through the base model and stacks the results to be used as inputs for the\n",
    "#classifier.\n",
    "\n",
    "#Stacks positive trained embeddings on top of each other as positive will be compared to both negative and anchor\n",
    "x_train_input1 = np.vstack([Shared_DNN.predict(Positive),Shared_DNN.predict(Positive)])\n",
    "x_train_input1_val = np.vstack([Shared_DNN.predict(Positive_val),Shared_DNN.predict(Positive_val)])\n",
    "#Stacks negative training embeddings and then anchor trained embeddings as both will be compared to positive\n",
    "x_train_input2 = np.vstack([Shared_DNN.predict(Negative),Shared_DNN.predict(Anchor)])\n",
    "x_train_input2_val = np.vstack([Shared_DNN.predict(Negative_val),Shared_DNN.predict(Anchor_val)])\n",
    "\n",
    "# Calculates euclidean distance between each paired row of the two vectors\n",
    "total_input = euclidean_distance([x_train_input1,x_train_input2])\n",
    "total_input_val = euclidean_distance([x_train_input1_val,x_train_input2_val])"
   ]
  },
  {
   "cell_type": "code",
   "execution_count": 37,
   "id": "13c83572-27e6-4f97-a9f7-0862138ce757",
   "metadata": {
    "execution": {
     "iopub.execute_input": "2022-04-27T14:35:14.533177Z",
     "iopub.status.busy": "2022-04-27T14:35:14.532897Z",
     "iopub.status.idle": "2022-04-27T14:35:14.537811Z",
     "shell.execute_reply": "2022-04-27T14:35:14.537167Z",
     "shell.execute_reply.started": "2022-04-27T14:35:14.533155Z"
    },
    "tags": []
   },
   "outputs": [],
   "source": [
    "#Creates y array for training the classifier\n",
    "y_binary = np.vstack([np.full((Positive.shape[0],1), 1), np.full((Positive.shape[0],1), 0)])\n",
    "y_binary_val = np.vstack([np.full((Positive_val.shape[0],1), 1), np.full((Positive_val.shape[0],1), 0)])"
   ]
  },
  {
   "cell_type": "code",
   "execution_count": 38,
   "id": "f6a0b04a-2fb6-4185-8139-77114fa47aa0",
   "metadata": {
    "execution": {
     "iopub.execute_input": "2022-04-27T14:35:17.338169Z",
     "iopub.status.busy": "2022-04-27T14:35:17.337889Z",
     "iopub.status.idle": "2022-04-27T14:35:17.355388Z",
     "shell.execute_reply": "2022-04-27T14:35:17.354798Z",
     "shell.execute_reply.started": "2022-04-27T14:35:17.338146Z"
    },
    "tags": []
   },
   "outputs": [],
   "source": [
    "# Defining classifier that computes the class of a specific distance\n",
    "#Code from https://github.com/sauravjoshi23/SiameseNet-Loss/blob/master/siamese-triplet-loss.ipynb\n",
    "classifier_input = Input(shape=(1,))\n",
    "classifier_hidden = Dense(100, activation='sigmoid')(classifier_input)\n",
    "classifier_output = Dense(1, activation='sigmoid')(classifier_hidden)\n",
    "classifier_model = Model(classifier_input, classifier_output)"
   ]
  },
  {
   "cell_type": "code",
   "execution_count": 39,
   "id": "aa81f1ec-42c0-49d0-bbcf-8aae20baa830",
   "metadata": {
    "execution": {
     "iopub.execute_input": "2022-04-27T14:35:19.106134Z",
     "iopub.status.busy": "2022-04-27T14:35:19.105849Z",
     "iopub.status.idle": "2022-04-27T14:35:27.761175Z",
     "shell.execute_reply": "2022-04-27T14:35:27.760542Z",
     "shell.execute_reply.started": "2022-04-27T14:35:19.106111Z"
    },
    "tags": []
   },
   "outputs": [
    {
     "name": "stdout",
     "output_type": "stream",
     "text": [
      "Epoch 1/10\n",
      "311/311 [==============================] - 1s 3ms/step - loss: 0.6588 - accuracy: 0.7546 - f1_m: 0.7942 - val_loss: 0.6284 - val_accuracy: 0.6872 - val_f1_m: 0.4458\n",
      "Epoch 2/10\n",
      "311/311 [==============================] - 1s 3ms/step - loss: 0.4645 - accuracy: 0.9103 - f1_m: 0.9042 - val_loss: 0.6527 - val_accuracy: 0.6745 - val_f1_m: 0.4623\n",
      "Epoch 3/10\n",
      "311/311 [==============================] - 1s 3ms/step - loss: 0.3494 - accuracy: 0.9105 - f1_m: 0.9047 - val_loss: 0.6878 - val_accuracy: 0.6838 - val_f1_m: 0.4529\n",
      "Epoch 4/10\n",
      "311/311 [==============================] - 1s 3ms/step - loss: 0.3016 - accuracy: 0.9105 - f1_m: 0.9046 - val_loss: 0.8163 - val_accuracy: 0.6662 - val_f1_m: 0.4686\n",
      "Epoch 5/10\n",
      "311/311 [==============================] - 1s 3ms/step - loss: 0.2949 - accuracy: 0.9074 - f1_m: 0.9028 - val_loss: 0.8458 - val_accuracy: 0.6694 - val_f1_m: 0.4662\n",
      "Epoch 6/10\n",
      "311/311 [==============================] - 1s 3ms/step - loss: 0.2853 - accuracy: 0.9086 - f1_m: 0.9031 - val_loss: 0.8530 - val_accuracy: 0.6745 - val_f1_m: 0.4627\n",
      "Epoch 7/10\n",
      "311/311 [==============================] - 1s 3ms/step - loss: 0.2775 - accuracy: 0.9104 - f1_m: 0.9052 - val_loss: 0.9161 - val_accuracy: 0.6682 - val_f1_m: 0.4677\n",
      "Epoch 8/10\n",
      "311/311 [==============================] - 1s 3ms/step - loss: 0.2847 - accuracy: 0.9057 - f1_m: 0.9017 - val_loss: 0.8663 - val_accuracy: 0.6774 - val_f1_m: 0.4589\n",
      "Epoch 9/10\n",
      "311/311 [==============================] - 1s 3ms/step - loss: 0.2893 - accuracy: 0.9066 - f1_m: 0.8993 - val_loss: 0.9199 - val_accuracy: 0.6711 - val_f1_m: 0.4652\n",
      "Epoch 10/10\n",
      "311/311 [==============================] - 1s 3ms/step - loss: 0.2885 - accuracy: 0.9005 - f1_m: 0.8957 - val_loss: 0.9049 - val_accuracy: 0.6745 - val_f1_m: 0.4621\n"
     ]
    },
    {
     "data": {
      "text/plain": [
       "<tensorflow.python.keras.callbacks.History at 0x7f48b547e3a0>"
      ]
     },
     "execution_count": 39,
     "metadata": {},
     "output_type": "execute_result"
    }
   ],
   "source": [
    "# Fitting classifier\n",
    "classifier_model.compile(optimizer='adam',loss='binary_crossentropy',metrics=['accuracy',f1_m])\n",
    "classifier_model.fit(x=total_input,y=y_binary,validation_data= (total_input_val,y_binary_val) , epochs=10)"
   ]
  },
  {
   "cell_type": "markdown",
   "id": "3e9575b4",
   "metadata": {},
   "source": [
    "## 3. Testing model"
   ]
  },
  {
   "cell_type": "code",
   "execution_count": 40,
   "id": "72b7f244-6c6a-4a89-b216-a8e7e0b28a74",
   "metadata": {
    "execution": {
     "iopub.execute_input": "2022-04-27T14:35:31.109687Z",
     "iopub.status.busy": "2022-04-27T14:35:31.109407Z",
     "iopub.status.idle": "2022-04-27T14:35:31.165706Z",
     "shell.execute_reply": "2022-04-27T14:35:31.165190Z",
     "shell.execute_reply.started": "2022-04-27T14:35:31.109664Z"
    },
    "tags": []
   },
   "outputs": [],
   "source": [
    "# Initialising test data\n",
    "df_test = get_processed_dataset('valid_2022_task2')"
   ]
  },
  {
   "cell_type": "code",
   "execution_count": 41,
   "id": "9165056c-2f4c-4520-82fb-4e96b4dcade7",
   "metadata": {
    "execution": {
     "iopub.execute_input": "2022-04-27T14:35:31.770647Z",
     "iopub.status.busy": "2022-04-27T14:35:31.770366Z",
     "iopub.status.idle": "2022-04-27T14:35:31.874947Z",
     "shell.execute_reply": "2022-04-27T14:35:31.874415Z",
     "shell.execute_reply.started": "2022-04-27T14:35:31.770624Z"
    },
    "tags": []
   },
   "outputs": [],
   "source": [
    "#Creating y variable\n",
    "df_test['same_author'] = df_test.apply(lambda x:  1 if x['author_1'] != x['author_2'] else 0, axis=1)"
   ]
  },
  {
   "cell_type": "code",
   "execution_count": 42,
   "id": "e8a50c7e-8d72-4c53-b5df-3687d843f504",
   "metadata": {
    "execution": {
     "iopub.execute_input": "2022-04-27T14:35:33.439962Z",
     "iopub.status.busy": "2022-04-27T14:35:33.439650Z",
     "iopub.status.idle": "2022-04-27T14:35:33.986053Z",
     "shell.execute_reply": "2022-04-27T14:35:33.985473Z",
     "shell.execute_reply.started": "2022-04-27T14:35:33.439936Z"
    },
    "tags": []
   },
   "outputs": [],
   "source": [
    "#Tokenizing both sets of paragraphs\n",
    "x_test1 = tokenizer.texts_to_sequences(df_test['para1_text'])\n",
    "x_test1 = pad_sequences(x_test1, maxlen=max_len, padding='post')\n",
    "x_test2 = tokenizer.texts_to_sequences(df_test['para2_text'])\n",
    "x_test2 = pad_sequences(x_test2, maxlen=max_len, padding='post')"
   ]
  },
  {
   "cell_type": "code",
   "execution_count": 43,
   "id": "7d4cdb95-3bff-4cbc-8cae-579661fb88f7",
   "metadata": {
    "execution": {
     "iopub.execute_input": "2022-04-27T14:35:34.739789Z",
     "iopub.status.busy": "2022-04-27T14:35:34.739508Z",
     "iopub.status.idle": "2022-04-27T14:35:36.220027Z",
     "shell.execute_reply": "2022-04-27T14:35:36.219475Z",
     "shell.execute_reply.started": "2022-04-27T14:35:34.739766Z"
    },
    "tags": []
   },
   "outputs": [
    {
     "name": "stderr",
     "output_type": "stream",
     "text": [
      "2022-04-27 14:35:34.749694: W tensorflow/core/framework/cpu_allocator_impl.cc:80] Allocation of 572220000 exceeds 10% of free system memory.\n",
      "2022-04-27 14:35:35.489594: W tensorflow/core/framework/cpu_allocator_impl.cc:80] Allocation of 572220000 exceeds 10% of free system memory.\n"
     ]
    }
   ],
   "source": [
    "#Runs the original embed matrices through the base model and calculates the distance between each pair of paragraphs.\n",
    "total_input_test = euclidean_distance([Shared_DNN(x_test1),Shared_DNN(x_test2)])"
   ]
  },
  {
   "cell_type": "code",
   "execution_count": 44,
   "id": "03cc17b5-2df8-43ef-a714-04ba1b7c9c5d",
   "metadata": {
    "execution": {
     "iopub.execute_input": "2022-04-27T14:35:36.221831Z",
     "iopub.status.busy": "2022-04-27T14:35:36.221356Z",
     "iopub.status.idle": "2022-04-27T14:35:36.863314Z",
     "shell.execute_reply": "2022-04-27T14:35:36.862485Z",
     "shell.execute_reply.started": "2022-04-27T14:35:36.221797Z"
    },
    "tags": []
   },
   "outputs": [
    {
     "name": "stdout",
     "output_type": "stream",
     "text": [
      "299/299 [==============================] - 1s 2ms/step - loss: 1.0202 - accuracy: 0.6053 - f1_m: 0.7135\n"
     ]
    },
    {
     "data": {
      "text/plain": [
       "[1.0201764106750488, 0.6053265929222107, 0.7135379314422607]"
      ]
     },
     "execution_count": 44,
     "metadata": {},
     "output_type": "execute_result"
    }
   ],
   "source": [
    "#Evaluates the testing data\n",
    "classifier_model.evaluate(total_input_test, df_test['same_author'])"
   ]
  }
 ],
 "metadata": {
  "kernelspec": {
   "display_name": "Python 3",
   "language": "python",
   "name": "python3"
  },
  "language_info": {
   "codemirror_mode": {
    "name": "ipython",
    "version": 3
   },
   "file_extension": ".py",
   "mimetype": "text/x-python",
   "name": "python",
   "nbconvert_exporter": "python",
   "pygments_lexer": "ipython3",
   "version": "3.8.8"
  }
 },
 "nbformat": 4,
 "nbformat_minor": 5
}
