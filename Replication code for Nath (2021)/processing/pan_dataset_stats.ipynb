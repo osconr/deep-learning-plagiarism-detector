{
 "cells": [
  {
   "cell_type": "code",
   "execution_count": 1,
   "metadata": {},
   "outputs": [],
   "source": [
    "import os\n",
    "import fnmatch\n",
    "from random import shuffle\n",
    "import json\n",
    "from src.config import config_io\n",
    "from pathlib import Path\n",
    "import json\n",
    "import pandas as pd\n",
    "import numpy as np\n",
    "from matplotlib import pyplot as plt"
   ]
  },
  {
   "cell_type": "code",
   "execution_count": 2,
   "metadata": {
    "pycharm": {
     "name": "#%%\n"
    },
    "scrolled": true
   },
   "outputs": [
    {
     "data": {
      "text/plain": [
       "dict_keys(['pan_19_original_train', 'pan_19_original_test', 'pan_19_processed_train', 'pan_19_processed_test', 'pan_20_original_train_narrow', 'pan_20_original_train_wide', 'pan_20_original_test_narrow', 'pan_20_original_test_wide', 'pan_20_processed_test_narrow', 'pan_20_processed_test_wide', 'pan_20_processed_train_narrow', 'pan_20_processed_train_wide', 'pan_21_original_train', 'pan_21_original_test', 'pan_21_processed_train', 'pan_21_processed_test'])"
      ]
     },
     "execution_count": 2,
     "metadata": {},
     "output_type": "execute_result"
    }
   ],
   "source": [
    "config_io.keys()"
   ]
  },
  {
   "cell_type": "code",
   "execution_count": 3,
   "metadata": {},
   "outputs": [],
   "source": [
    "data = pd.read_csv(config_io['pan_21_processed_train'])"
   ]
  },
  {
   "cell_type": "code",
   "execution_count": 4,
   "metadata": {
    "scrolled": true
   },
   "outputs": [
    {
     "data": {
      "text/html": [
       "<div>\n",
       "<style scoped>\n",
       "    .dataframe tbody tr th:only-of-type {\n",
       "        vertical-align: middle;\n",
       "    }\n",
       "\n",
       "    .dataframe tbody tr th {\n",
       "        vertical-align: top;\n",
       "    }\n",
       "\n",
       "    .dataframe thead th {\n",
       "        text-align: right;\n",
       "    }\n",
       "</style>\n",
       "<table border=\"1\" class=\"dataframe\">\n",
       "  <thead>\n",
       "    <tr style=\"text-align: right;\">\n",
       "      <th></th>\n",
       "      <th>problem</th>\n",
       "      <th>author_1</th>\n",
       "      <th>author_2</th>\n",
       "      <th>para1_text</th>\n",
       "      <th>para2_text</th>\n",
       "    </tr>\n",
       "  </thead>\n",
       "  <tbody>\n",
       "    <tr>\n",
       "      <th>0</th>\n",
       "      <td>problem-4845.txt</td>\n",
       "      <td>1</td>\n",
       "      <td>1</td>\n",
       "      <td>I can't see the names (as you've properly reda...</td>\n",
       "      <td>Does it have anything to do that in this parti...</td>\n",
       "    </tr>\n",
       "    <tr>\n",
       "      <th>1</th>\n",
       "      <td>problem-4845.txt</td>\n",
       "      <td>1</td>\n",
       "      <td>1</td>\n",
       "      <td>Does it have anything to do that in this parti...</td>\n",
       "      <td>I am having a problem with connectivity in one...</td>\n",
       "    </tr>\n",
       "    <tr>\n",
       "      <th>2</th>\n",
       "      <td>problem-4845.txt</td>\n",
       "      <td>1</td>\n",
       "      <td>1</td>\n",
       "      <td>I am having a problem with connectivity in one...</td>\n",
       "      <td>Aliases are a way for the client to be redirec...</td>\n",
       "    </tr>\n",
       "    <tr>\n",
       "      <th>3</th>\n",
       "      <td>problem-4845.txt</td>\n",
       "      <td>1</td>\n",
       "      <td>1</td>\n",
       "      <td>Aliases are a way for the client to be redirec...</td>\n",
       "      <td>It doesn't deal with any of that. It specifica...</td>\n",
       "    </tr>\n",
       "    <tr>\n",
       "      <th>4</th>\n",
       "      <td>problem-9721.txt</td>\n",
       "      <td>3</td>\n",
       "      <td>3</td>\n",
       "      <td>here is no non-root command, but a root comman...</td>\n",
       "      <td>For my situation, the use of locking is not su...</td>\n",
       "    </tr>\n",
       "  </tbody>\n",
       "</table>\n",
       "</div>"
      ],
      "text/plain": [
       "            problem  author_1  author_2  \\\n",
       "0  problem-4845.txt         1         1   \n",
       "1  problem-4845.txt         1         1   \n",
       "2  problem-4845.txt         1         1   \n",
       "3  problem-4845.txt         1         1   \n",
       "4  problem-9721.txt         3         3   \n",
       "\n",
       "                                          para1_text  \\\n",
       "0  I can't see the names (as you've properly reda...   \n",
       "1  Does it have anything to do that in this parti...   \n",
       "2  I am having a problem with connectivity in one...   \n",
       "3  Aliases are a way for the client to be redirec...   \n",
       "4  here is no non-root command, but a root comman...   \n",
       "\n",
       "                                          para2_text  \n",
       "0  Does it have anything to do that in this parti...  \n",
       "1  I am having a problem with connectivity in one...  \n",
       "2  Aliases are a way for the client to be redirec...  \n",
       "3  It doesn't deal with any of that. It specifica...  \n",
       "4  For my situation, the use of locking is not su...  "
      ]
     },
     "execution_count": 4,
     "metadata": {},
     "output_type": "execute_result"
    }
   ],
   "source": [
    "data.head()"
   ]
  },
  {
   "cell_type": "code",
   "execution_count": 5,
   "metadata": {},
   "outputs": [
    {
     "data": {
      "text/plain": [
       "(65601, 5)"
      ]
     },
     "execution_count": 5,
     "metadata": {},
     "output_type": "execute_result"
    }
   ],
   "source": [
    "data.shape"
   ]
  },
  {
   "cell_type": "code",
   "execution_count": 6,
   "metadata": {},
   "outputs": [
    {
     "data": {
      "text/plain": [
       "0.0"
      ]
     },
     "execution_count": 6,
     "metadata": {},
     "output_type": "execute_result"
    }
   ],
   "source": [
    "len(data[data['author_1'] != data['author_2']])/len(data)"
   ]
  },
  {
   "cell_type": "code",
   "execution_count": 7,
   "metadata": {},
   "outputs": [],
   "source": [
    "\n",
    "def get_stats(data, quantile_val, ret = \"stats\"):\n",
    "    p1_series = data.apply(lambda x : len(x[3]), axis = 1)\n",
    "    p2_series = data.apply(lambda x : len(x[4]), axis = 1)\n",
    "    series = pd.concat([p1_series, p2_series])\n",
    "    #print(series)\n",
    "    #series.plot.hist(bins = 5)\n",
    "    #print(\"Length:\", len(data))\n",
    "    #print(\"Mean:\", series.mean())\n",
    "    #print(\"Std. Dev.:\", series.std())\n",
    "    print(f'quantile: {quantile_val}, Length: {len(data)},Mean: {series.mean():.2f}, Std. Dev.: {series.std():.2f} ')\n",
    "    if ret==\"stats\":\n",
    "        return len(data), series.mean(), series.std()\n",
    "    elif ret == \"series\":\n",
    "        return series\n",
    "    else:\n",
    "        print(\"Return value not identified! None returned\")\n"
   ]
  },
  {
   "cell_type": "code",
   "execution_count": 8,
   "metadata": {},
   "outputs": [
    {
     "name": "stdout",
     "output_type": "stream",
     "text": [
      "quantile: 1, Length: 65601,Mean: 250.48, Std. Dev.: 140.52 \n"
     ]
    }
   ],
   "source": [
    "series = get_stats(data, 1, ret = \"series\")"
   ]
  },
  {
   "cell_type": "code",
   "execution_count": 9,
   "metadata": {
    "scrolled": true
   },
   "outputs": [
    {
     "data": {
      "text/plain": [
       "Text(0, 0.5, 'Frequency')"
      ]
     },
     "execution_count": 9,
     "metadata": {},
     "output_type": "execute_result"
    },
    {
     "data": {
      "image/png": "[encoded data removed]",
      "text/plain": [
       "<Figure size 432x288 with 1 Axes>"
      ]
     },
     "metadata": {
      "needs_background": "light"
     },
     "output_type": "display_data"
    }
   ],
   "source": [
    "#ax = series.plot.hist()\n",
    "binwidth = 100\n",
    "fig, ax = plt.subplots()\n",
    "plt.hist(series, bins=np.arange(min(series), max(series) + binwidth, binwidth))\n",
    "plt.suptitle(\"Training Dataset Paragraph Length Frequency\")\n",
    "ax.set_xlabel(\"Paragraph Length\")\n",
    "ax.set_ylabel(\"Frequency\")"
   ]
  },
  {
   "cell_type": "code",
   "execution_count": 52,
   "metadata": {},
   "outputs": [
    {
     "data": {
      "text/plain": [
       "(8326, 5)"
      ]
     },
     "execution_count": 52,
     "metadata": {},
     "output_type": "execute_result"
    }
   ],
   "source": [
    "n = 400\n",
    "data_lower = data[data.apply(lambda x : (len(x[3])> n) & (len(x[4])>n), axis = 1) ]\n",
    "data_lower.shape"
   ]
  },
  {
   "cell_type": "code",
   "execution_count": 54,
   "metadata": {},
   "outputs": [
    {
     "name": "stdout",
     "output_type": "stream",
     "text": [
      "quantile: 1, Length: 8326,Mean: 1276.95, Std. Dev.: 898.42 \n"
     ]
    }
   ],
   "source": [
    "series = get_stats(data_lower, 1, ret = \"series\")"
   ]
  }
 ],
 "metadata": {
  "kernelspec": {
   "display_name": "PyCharm (SiameseNetworkTensorflow)",
   "language": "python",
   "name": "pycharm-edf9727a"
  },
  "language_info": {
   "codemirror_mode": {
    "name": "ipython",
    "version": 3
   },
   "file_extension": ".py",
   "mimetype": "text/x-python",
   "name": "python",
   "nbconvert_exporter": "python",
   "pygments_lexer": "ipython3",
   "version": "3.8.5"
  }
 },
 "nbformat": 4,
 "nbformat_minor": 1
}