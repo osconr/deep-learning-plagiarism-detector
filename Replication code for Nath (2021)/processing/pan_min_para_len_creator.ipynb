{
 "cells": [
  {
   "cell_type": "code",
   "execution_count": 2,
   "metadata": {},
   "outputs": [],
   "source": [
    "import os\n",
    "import fnmatch\n",
    "from random import shuffle\n",
    "import json\n",
    "from src.config import config_io\n",
    "from pathlib import Path\n",
    "import json\n",
    "import pandas as pd\n",
    "import src.config as config"
   ]
  },
  {
   "cell_type": "code",
   "execution_count": 3,
   "metadata": {
    "pycharm": {
     "name": "#%%\n"
    }
   },
   "outputs": [
    {
     "name": "stdout",
     "output_type": "stream",
     "text": [
      "/home/sukanya/PhD/Datasets/PAN SCD/pan19-style-change-detection/processed/train.csv\n"
     ]
    },
    {
     "data": {
      "text/plain": [
       "(18961, 5)"
      ]
     },
     "execution_count": 3,
     "metadata": {},
     "output_type": "execute_result"
    }
   ],
   "source": [
    "data_path = config.config_io.get('pan_19_processed_train')\n",
    "print(data_path)\n",
    "data = pd.read_csv(data_path)\n",
    "data.shape"
   ]
  },
  {
   "cell_type": "code",
   "execution_count": 4,
   "metadata": {},
   "outputs": [
    {
     "data": {
      "text/html": [
       "<div>\n",
       "<style scoped>\n",
       "    .dataframe tbody tr th:only-of-type {\n",
       "        vertical-align: middle;\n",
       "    }\n",
       "\n",
       "    .dataframe tbody tr th {\n",
       "        vertical-align: top;\n",
       "    }\n",
       "\n",
       "    .dataframe thead th {\n",
       "        text-align: right;\n",
       "    }\n",
       "</style>\n",
       "<table border=\"1\" class=\"dataframe\">\n",
       "  <thead>\n",
       "    <tr style=\"text-align: right;\">\n",
       "      <th></th>\n",
       "      <th>problem</th>\n",
       "      <th>author_1</th>\n",
       "      <th>author_2</th>\n",
       "      <th>para1_text</th>\n",
       "      <th>para2_text</th>\n",
       "    </tr>\n",
       "  </thead>\n",
       "  <tbody>\n",
       "    <tr>\n",
       "      <th>0</th>\n",
       "      <td>problem-1543.txt</td>\n",
       "      <td>A1</td>\n",
       "      <td>A1</td>\n",
       "      <td>Given an alphabet $\\Sigma$ of size $k$ and two...</td>\n",
       "      <td>\\nThe paper \"Algorithmic Meta Theorems for Cir...</td>\n",
       "    </tr>\n",
       "    <tr>\n",
       "      <th>1</th>\n",
       "      <td>problem-631.txt</td>\n",
       "      <td>A1</td>\n",
       "      <td>A3</td>\n",
       "      <td>\\nInstead of an actual GPS device, I would rec...</td>\n",
       "      <td>In the end, a seat post pump probably has the ...</td>\n",
       "    </tr>\n",
       "    <tr>\n",
       "      <th>2</th>\n",
       "      <td>problem-631.txt</td>\n",
       "      <td>A3</td>\n",
       "      <td>A2</td>\n",
       "      <td>In the end, a seat post pump probably has the ...</td>\n",
       "      <td>\\nThanks for the help. Finally what I needed t...</td>\n",
       "    </tr>\n",
       "    <tr>\n",
       "      <th>3</th>\n",
       "      <td>problem-631.txt</td>\n",
       "      <td>A2</td>\n",
       "      <td>A1</td>\n",
       "      <td>\\nThanks for the help. Finally what I needed t...</td>\n",
       "      <td>\\nIt might sound weird, but if you're finding ...</td>\n",
       "    </tr>\n",
       "    <tr>\n",
       "      <th>4</th>\n",
       "      <td>problem-631.txt</td>\n",
       "      <td>A1</td>\n",
       "      <td>A2</td>\n",
       "      <td>\\nIt might sound weird, but if you're finding ...</td>\n",
       "      <td>This is a bit weird question. I bought a Speci...</td>\n",
       "    </tr>\n",
       "  </tbody>\n",
       "</table>\n",
       "</div>"
      ],
      "text/plain": [
       "            problem author_1 author_2  \\\n",
       "0  problem-1543.txt       A1       A1   \n",
       "1   problem-631.txt       A1       A3   \n",
       "2   problem-631.txt       A3       A2   \n",
       "3   problem-631.txt       A2       A1   \n",
       "4   problem-631.txt       A1       A2   \n",
       "\n",
       "                                          para1_text  \\\n",
       "0  Given an alphabet $\\Sigma$ of size $k$ and two...   \n",
       "1  \\nInstead of an actual GPS device, I would rec...   \n",
       "2  In the end, a seat post pump probably has the ...   \n",
       "3  \\nThanks for the help. Finally what I needed t...   \n",
       "4  \\nIt might sound weird, but if you're finding ...   \n",
       "\n",
       "                                          para2_text  \n",
       "0  \\nThe paper \"Algorithmic Meta Theorems for Cir...  \n",
       "1  In the end, a seat post pump probably has the ...  \n",
       "2  \\nThanks for the help. Finally what I needed t...  \n",
       "3  \\nIt might sound weird, but if you're finding ...  \n",
       "4  This is a bit weird question. I bought a Speci...  "
      ]
     },
     "execution_count": 4,
     "metadata": {},
     "output_type": "execute_result"
    }
   ],
   "source": [
    "data.head()"
   ]
  },
  {
   "cell_type": "code",
   "execution_count": 5,
   "metadata": {},
   "outputs": [
    {
     "name": "stdout",
     "output_type": "stream",
     "text": [
      "Min para size: 0\n",
      "len: 18961 same_author percentage: 57.95053003533569 diff author percentage: 42.04946996466431\n",
      "Min para size: 200\n",
      "len: 13693 same_author percentage: 48.805959249251444 diff author percentage: 51.194040750748556\n",
      "Min para size: 400\n",
      "len: 8326 same_author percentage: 35.503242853711264 diff author percentage: 64.49675714628873\n",
      "Min para size: 600\n",
      "len: 5543 same_author percentage: 29.550784773588312 diff author percentage: 70.4492152264117\n",
      "Min para size: 800\n",
      "len: 3793 same_author percentage: 29.712628526232532 diff author percentage: 70.28737147376746\n",
      "Min para size: 1000\n",
      "len: 2481 same_author percentage: 34.3409915356711 diff author percentage: 65.6590084643289\n",
      "Min para size: 1200\n",
      "len: 1621 same_author percentage: 42.442936458975936 diff author percentage: 57.557063541024064\n",
      "Min para size: 1400\n",
      "len: 1201 same_author percentage: 47.71024146544546 diff author percentage: 52.28975853455454\n",
      "Min para size: 1600\n",
      "len: 920 same_author percentage: 52.93478260869565 diff author percentage: 47.06521739130435\n",
      "Min para size: 1800\n",
      "len: 726 same_author percentage: 57.71349862258953 diff author percentage: 42.28650137741047\n",
      "Min para size: 2000\n",
      "len: 586 same_author percentage: 63.82252559726962 diff author percentage: 36.17747440273038\n"
     ]
    }
   ],
   "source": [
    "# selecting those data points which have both paragraph lengths above the threshold min_para_size\n",
    "data_len_list = []\n",
    "same_author_percent_list = []\n",
    "diff_author_percent_list = []\n",
    "for min_para_size in range(0,2200,200):\n",
    "    print(\"Min para size:\", min_para_size)\n",
    "    new_data = data[data.apply(lambda x : (len(x[3])> min_para_size) & (len(x[4])>min_para_size), axis = 1)]\n",
    "    same_author_pairs = sum(new_data.apply(lambda x: x[1]==x[2], axis = 1))\n",
    "    same_author_percentage = same_author_pairs/len(new_data)*100\n",
    "    diff_author_percentage = 100 -same_author_percentage\n",
    "    data_len_list.append(len(new_data))\n",
    "    same_author_percent_list.append(same_author_percentage)\n",
    "    diff_author_percent_list.append(diff_author_percentage)\n",
    "    print(\"len:\", len(new_data), \"same_author percentage:\", same_author_percentage, \"diff author percentage:\",diff_author_percentage )\n",
    "    #new_data.to_csv('/home/sukanya/PhD/Results/15_Feb_PAN_dataset_size_increased/datasets/training_'+str(min_para_size)+\".csv\")\n",
    "\n",
    "df = pd.DataFrame({\"Dataset Size\": data_len_list, \n",
    "                   \"same author percentage\": same_author_percent_list, \n",
    "                   \"different author percentage\": diff_author_percent_list}, index = list(range(0,2200,200)))"
   ]
  },
  {
   "cell_type": "code",
   "execution_count": 6,
   "metadata": {},
   "outputs": [
    {
     "name": "stdout",
     "output_type": "stream",
     "text": [
      "0 0\n",
      "200 5236\n",
      "400 10607\n",
      "600 13410\n",
      "800 15158\n",
      "1000 16473\n",
      "1200 17340\n",
      "1400 17758\n",
      "1600 18040\n",
      "1800 18235\n"
     ]
    }
   ],
   "source": [
    "for i in range(0,2000, 200):\n",
    "    smaller = data[data.apply(lambda x : (len(x[3])< i) | (len(x[4])<i), axis = 1)]\n",
    "    print(i, len(smaller))"
   ]
  },
  {
   "cell_type": "code",
   "execution_count": 22,
   "metadata": {},
   "outputs": [
    {
     "data": {
      "text/plain": [
       "(10607, 5)"
      ]
     },
     "execution_count": 22,
     "metadata": {},
     "output_type": "execute_result"
    }
   ],
   "source": [
    "smaller.shape"
   ]
  },
  {
   "cell_type": "code",
   "execution_count": 7,
   "metadata": {},
   "outputs": [
    {
     "data": {
      "text/html": [
       "<div>\n",
       "<style scoped>\n",
       "    .dataframe tbody tr th:only-of-type {\n",
       "        vertical-align: middle;\n",
       "    }\n",
       "\n",
       "    .dataframe tbody tr th {\n",
       "        vertical-align: top;\n",
       "    }\n",
       "\n",
       "    .dataframe thead th {\n",
       "        text-align: right;\n",
       "    }\n",
       "</style>\n",
       "<table border=\"1\" class=\"dataframe\">\n",
       "  <thead>\n",
       "    <tr style=\"text-align: right;\">\n",
       "      <th></th>\n",
       "      <th>Dataset Size</th>\n",
       "      <th>same author percentage</th>\n",
       "      <th>different author percentage</th>\n",
       "    </tr>\n",
       "  </thead>\n",
       "  <tbody>\n",
       "    <tr>\n",
       "      <th>0</th>\n",
       "      <td>18961</td>\n",
       "      <td>57.950530</td>\n",
       "      <td>42.049470</td>\n",
       "    </tr>\n",
       "    <tr>\n",
       "      <th>200</th>\n",
       "      <td>13693</td>\n",
       "      <td>48.805959</td>\n",
       "      <td>51.194041</td>\n",
       "    </tr>\n",
       "    <tr>\n",
       "      <th>400</th>\n",
       "      <td>8326</td>\n",
       "      <td>35.503243</td>\n",
       "      <td>64.496757</td>\n",
       "    </tr>\n",
       "    <tr>\n",
       "      <th>600</th>\n",
       "      <td>5543</td>\n",
       "      <td>29.550785</td>\n",
       "      <td>70.449215</td>\n",
       "    </tr>\n",
       "    <tr>\n",
       "      <th>800</th>\n",
       "      <td>3793</td>\n",
       "      <td>29.712629</td>\n",
       "      <td>70.287371</td>\n",
       "    </tr>\n",
       "    <tr>\n",
       "      <th>1000</th>\n",
       "      <td>2481</td>\n",
       "      <td>34.340992</td>\n",
       "      <td>65.659008</td>\n",
       "    </tr>\n",
       "    <tr>\n",
       "      <th>1200</th>\n",
       "      <td>1621</td>\n",
       "      <td>42.442936</td>\n",
       "      <td>57.557064</td>\n",
       "    </tr>\n",
       "    <tr>\n",
       "      <th>1400</th>\n",
       "      <td>1201</td>\n",
       "      <td>47.710241</td>\n",
       "      <td>52.289759</td>\n",
       "    </tr>\n",
       "    <tr>\n",
       "      <th>1600</th>\n",
       "      <td>920</td>\n",
       "      <td>52.934783</td>\n",
       "      <td>47.065217</td>\n",
       "    </tr>\n",
       "    <tr>\n",
       "      <th>1800</th>\n",
       "      <td>726</td>\n",
       "      <td>57.713499</td>\n",
       "      <td>42.286501</td>\n",
       "    </tr>\n",
       "    <tr>\n",
       "      <th>2000</th>\n",
       "      <td>586</td>\n",
       "      <td>63.822526</td>\n",
       "      <td>36.177474</td>\n",
       "    </tr>\n",
       "  </tbody>\n",
       "</table>\n",
       "</div>"
      ],
      "text/plain": [
       "      Dataset Size  same author percentage  different author percentage\n",
       "0            18961               57.950530                    42.049470\n",
       "200          13693               48.805959                    51.194041\n",
       "400           8326               35.503243                    64.496757\n",
       "600           5543               29.550785                    70.449215\n",
       "800           3793               29.712629                    70.287371\n",
       "1000          2481               34.340992                    65.659008\n",
       "1200          1621               42.442936                    57.557064\n",
       "1400          1201               47.710241                    52.289759\n",
       "1600           920               52.934783                    47.065217\n",
       "1800           726               57.713499                    42.286501\n",
       "2000           586               63.822526                    36.177474"
      ]
     },
     "execution_count": 7,
     "metadata": {},
     "output_type": "execute_result"
    }
   ],
   "source": [
    "df"
   ]
  },
  {
   "cell_type": "code",
   "execution_count": 8,
   "metadata": {},
   "outputs": [],
   "source": [
    "#df['Address'] = address \n",
    "df['same author prop'] = df.apply(lambda x: x[0]*x[1]/100, axis = 1)\n",
    "df['diff author prop'] = df.apply(lambda x: x[0]*x[2]/100, axis = 1)"
   ]
  },
  {
   "cell_type": "code",
   "execution_count": 52,
   "metadata": {},
   "outputs": [
    {
     "data": {
      "text/html": [
       "<div>\n",
       "<style scoped>\n",
       "    .dataframe tbody tr th:only-of-type {\n",
       "        vertical-align: middle;\n",
       "    }\n",
       "\n",
       "    .dataframe tbody tr th {\n",
       "        vertical-align: top;\n",
       "    }\n",
       "\n",
       "    .dataframe thead th {\n",
       "        text-align: right;\n",
       "    }\n",
       "</style>\n",
       "<table border=\"1\" class=\"dataframe\">\n",
       "  <thead>\n",
       "    <tr style=\"text-align: right;\">\n",
       "      <th></th>\n",
       "      <th>Dataset Size</th>\n",
       "      <th>same author percentage</th>\n",
       "      <th>different author percentage</th>\n",
       "      <th>same author prop</th>\n",
       "      <th>diff author prop</th>\n",
       "    </tr>\n",
       "  </thead>\n",
       "  <tbody>\n",
       "    <tr>\n",
       "      <th>0</th>\n",
       "      <td>18961</td>\n",
       "      <td>57.950530</td>\n",
       "      <td>42.049470</td>\n",
       "      <td>10988.0</td>\n",
       "      <td>7973.0</td>\n",
       "    </tr>\n",
       "    <tr>\n",
       "      <th>200</th>\n",
       "      <td>13693</td>\n",
       "      <td>48.805959</td>\n",
       "      <td>51.194041</td>\n",
       "      <td>6683.0</td>\n",
       "      <td>7010.0</td>\n",
       "    </tr>\n",
       "    <tr>\n",
       "      <th>400</th>\n",
       "      <td>8326</td>\n",
       "      <td>35.503243</td>\n",
       "      <td>64.496757</td>\n",
       "      <td>2956.0</td>\n",
       "      <td>5370.0</td>\n",
       "    </tr>\n",
       "    <tr>\n",
       "      <th>600</th>\n",
       "      <td>5543</td>\n",
       "      <td>29.550785</td>\n",
       "      <td>70.449215</td>\n",
       "      <td>1638.0</td>\n",
       "      <td>3905.0</td>\n",
       "    </tr>\n",
       "    <tr>\n",
       "      <th>800</th>\n",
       "      <td>3793</td>\n",
       "      <td>29.712629</td>\n",
       "      <td>70.287371</td>\n",
       "      <td>1127.0</td>\n",
       "      <td>2666.0</td>\n",
       "    </tr>\n",
       "    <tr>\n",
       "      <th>1000</th>\n",
       "      <td>2481</td>\n",
       "      <td>34.340992</td>\n",
       "      <td>65.659008</td>\n",
       "      <td>852.0</td>\n",
       "      <td>1629.0</td>\n",
       "    </tr>\n",
       "    <tr>\n",
       "      <th>1200</th>\n",
       "      <td>1621</td>\n",
       "      <td>42.442936</td>\n",
       "      <td>57.557064</td>\n",
       "      <td>688.0</td>\n",
       "      <td>933.0</td>\n",
       "    </tr>\n",
       "    <tr>\n",
       "      <th>1400</th>\n",
       "      <td>1201</td>\n",
       "      <td>47.710241</td>\n",
       "      <td>52.289759</td>\n",
       "      <td>573.0</td>\n",
       "      <td>628.0</td>\n",
       "    </tr>\n",
       "    <tr>\n",
       "      <th>1600</th>\n",
       "      <td>920</td>\n",
       "      <td>52.934783</td>\n",
       "      <td>47.065217</td>\n",
       "      <td>487.0</td>\n",
       "      <td>433.0</td>\n",
       "    </tr>\n",
       "    <tr>\n",
       "      <th>1800</th>\n",
       "      <td>726</td>\n",
       "      <td>57.713499</td>\n",
       "      <td>42.286501</td>\n",
       "      <td>419.0</td>\n",
       "      <td>307.0</td>\n",
       "    </tr>\n",
       "    <tr>\n",
       "      <th>2000</th>\n",
       "      <td>586</td>\n",
       "      <td>63.822526</td>\n",
       "      <td>36.177474</td>\n",
       "      <td>374.0</td>\n",
       "      <td>212.0</td>\n",
       "    </tr>\n",
       "  </tbody>\n",
       "</table>\n",
       "</div>"
      ],
      "text/plain": [
       "      Dataset Size  same author percentage  different author percentage  \\\n",
       "0            18961               57.950530                    42.049470   \n",
       "200          13693               48.805959                    51.194041   \n",
       "400           8326               35.503243                    64.496757   \n",
       "600           5543               29.550785                    70.449215   \n",
       "800           3793               29.712629                    70.287371   \n",
       "1000          2481               34.340992                    65.659008   \n",
       "1200          1621               42.442936                    57.557064   \n",
       "1400          1201               47.710241                    52.289759   \n",
       "1600           920               52.934783                    47.065217   \n",
       "1800           726               57.713499                    42.286501   \n",
       "2000           586               63.822526                    36.177474   \n",
       "\n",
       "      same author prop  diff author prop  \n",
       "0              10988.0            7973.0  \n",
       "200             6683.0            7010.0  \n",
       "400             2956.0            5370.0  \n",
       "600             1638.0            3905.0  \n",
       "800             1127.0            2666.0  \n",
       "1000             852.0            1629.0  \n",
       "1200             688.0             933.0  \n",
       "1400             573.0             628.0  \n",
       "1600             487.0             433.0  \n",
       "1800             419.0             307.0  \n",
       "2000             374.0             212.0  "
      ]
     },
     "execution_count": 52,
     "metadata": {},
     "output_type": "execute_result"
    }
   ],
   "source": [
    "df"
   ]
  },
  {
   "cell_type": "code",
   "execution_count": 12,
   "metadata": {},
   "outputs": [
    {
     "data": {
      "text/plain": [
       "<matplotlib.legend.Legend at 0x7f50f79f2f40>"
      ]
     },
     "execution_count": 12,
     "metadata": {},
     "output_type": "execute_result"
    },
    {
     "data": {
      "image/png": "[encoded data removed]",
      "text/plain": [
       "<Figure size 432x288 with 1 Axes>"
      ]
     },
     "metadata": {
      "needs_background": "light"
     },
     "output_type": "display_data"
    }
   ],
   "source": [
    "ax = df[['same author prop', 'diff author prop']].plot.bar(stacked=True)\n",
    "ax.set(xlabel=\"Minimum Paragraph Length\", ylabel=\"Dataset Size\")\n",
    "ax.legend(['Proportion of same authors', 'Proportion of different authors'])"
   ]
  },
  {
   "cell_type": "code",
   "execution_count": 17,
   "metadata": {},
   "outputs": [
    {
     "data": {
      "text/plain": [
       "<matplotlib.legend.Legend at 0x7f50f2be3c40>"
      ]
     },
     "execution_count": 17,
     "metadata": {},
     "output_type": "execute_result"
    },
    {
     "data": {
      "image/png": "[encoded data removed]",
      "text/plain": [
       "<Figure size 432x288 with 1 Axes>"
      ]
     },
     "metadata": {
      "needs_background": "light"
     },
     "output_type": "display_data"
    }
   ],
   "source": [
    "ax1 = df[['same author prop','diff author prop']].plot.bar()\n",
    "ax1.legend(['Proportion of same authors', 'Proportion of different authors'])"
   ]
  },
  {
   "cell_type": "code",
   "execution_count": null,
   "metadata": {},
   "outputs": [],
   "source": []
  }
 ],
 "metadata": {
  "kernelspec": {
   "display_name": "PyCharm (SiameseNetworkTensorflow)",
   "language": "python",
   "name": "pycharm-edf9727a"
  },
  "language_info": {
   "codemirror_mode": {
    "name": "ipython",
    "version": 3
   },
   "file_extension": ".py",
   "mimetype": "text/x-python",
   "name": "python",
   "nbconvert_exporter": "python",
   "pygments_lexer": "ipython3",
   "version": "3.8.5"
  }
 },
 "nbformat": 4,
 "nbformat_minor": 1
}